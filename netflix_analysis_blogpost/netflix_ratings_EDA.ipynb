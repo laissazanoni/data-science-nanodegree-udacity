{
 "cells": [
  {
   "cell_type": "markdown",
   "metadata": {},
   "source": [
    "# EDA of Netflix Titles Using IMDB Ratings"
   ]
  },
  {
   "cell_type": "markdown",
   "metadata": {},
   "source": [
    "In this project i merged 3 datasets to identify the most popular movies and tv shows in Netflix according to IMDb ratings, to answer the following questions using data exploratory analysis:\n",
    "\n",
    "1) Which countries have the greatest amount of top rated Movies and TV Shows?          \n",
    "2) Which genre of the best rated Movies and TV Shows?  \n",
    "3) What the top 10 most popular Movies and TV Shows?  \n",
    "4) What the top 3 most popular Movies and TV Shows per year of release?"
   ]
  },
  {
   "cell_type": "markdown",
   "metadata": {},
   "source": [
    "Datasets:\n",
    "- Movies and tv shows added on Netflix until the beginning of 2020\n",
    "(it can be found in kaggle - https://www.kaggle.com/shivamb/netflix-shows)  \n",
    "- IMDb rating and votes information for movies and tv shows   \n",
    "(it can be found in  - https://www.imdb.com/interfaces/)  "
   ]
  },
  {
   "cell_type": "markdown",
   "metadata": {},
   "source": [
    "### Importing libraries"
   ]
  },
  {
   "cell_type": "code",
   "execution_count": 1,
   "metadata": {},
   "outputs": [],
   "source": [
    "import os\n",
    "import pandas as pd\n",
    "import numpy as np\n",
    "import seaborn as sns\n",
    "import matplotlib\n",
    "import matplotlib.pyplot as plt"
   ]
  },
  {
   "cell_type": "markdown",
   "metadata": {},
   "source": [
    "### Input variables"
   ]
  },
  {
   "cell_type": "code",
   "execution_count": 2,
   "metadata": {},
   "outputs": [],
   "source": [
    "file1 = 'netflix_titles.csv'\n",
    "file2 = 'imdb_basics.tsv'\n",
    "file3 = 'imdb_ratings.tsv'"
   ]
  },
  {
   "cell_type": "markdown",
   "metadata": {},
   "source": [
    "### Setting display options"
   ]
  },
  {
   "cell_type": "code",
   "execution_count": 3,
   "metadata": {},
   "outputs": [],
   "source": [
    "pd.options.display.max_rows = 30\n",
    "## Enable inline plotting for graphics\n",
    "%matplotlib inline\n",
    "## Set default figure size to be larger \n",
    "## this may only work in matplotlib 2.0+!\n",
    "matplotlib.rcParams['figure.figsize'] = [16.0,8.0]"
   ]
  },
  {
   "cell_type": "markdown",
   "metadata": {},
   "source": [
    "### Importing Netflix dataset"
   ]
  },
  {
   "cell_type": "code",
   "execution_count": 4,
   "metadata": {},
   "outputs": [],
   "source": [
    "df_netflix = pd.read_csv(os.path.join('Datasets', file1)) "
   ]
  },
  {
   "cell_type": "code",
   "execution_count": 5,
   "metadata": {},
   "outputs": [
    {
     "name": "stdout",
     "output_type": "stream",
     "text": [
      "(6234, 12)\n"
     ]
    },
    {
     "data": {
      "text/html": [
       "<div>\n",
       "<style scoped>\n",
       "    .dataframe tbody tr th:only-of-type {\n",
       "        vertical-align: middle;\n",
       "    }\n",
       "\n",
       "    .dataframe tbody tr th {\n",
       "        vertical-align: top;\n",
       "    }\n",
       "\n",
       "    .dataframe thead th {\n",
       "        text-align: right;\n",
       "    }\n",
       "</style>\n",
       "<table border=\"1\" class=\"dataframe\">\n",
       "  <thead>\n",
       "    <tr style=\"text-align: right;\">\n",
       "      <th></th>\n",
       "      <th>show_id</th>\n",
       "      <th>type</th>\n",
       "      <th>title</th>\n",
       "      <th>director</th>\n",
       "      <th>cast</th>\n",
       "      <th>country</th>\n",
       "      <th>date_added</th>\n",
       "      <th>release_year</th>\n",
       "      <th>rating</th>\n",
       "      <th>duration</th>\n",
       "      <th>listed_in</th>\n",
       "      <th>description</th>\n",
       "    </tr>\n",
       "  </thead>\n",
       "  <tbody>\n",
       "    <tr>\n",
       "      <th>0</th>\n",
       "      <td>81145628</td>\n",
       "      <td>Movie</td>\n",
       "      <td>Norm of the North: King Sized Adventure</td>\n",
       "      <td>Richard Finn, Tim Maltby</td>\n",
       "      <td>Alan Marriott, Andrew Toth, Brian Dobson, Cole...</td>\n",
       "      <td>United States, India, South Korea, China</td>\n",
       "      <td>September 9, 2019</td>\n",
       "      <td>2019</td>\n",
       "      <td>TV-PG</td>\n",
       "      <td>90 min</td>\n",
       "      <td>Children &amp; Family Movies, Comedies</td>\n",
       "      <td>Before planning an awesome wedding for his gra...</td>\n",
       "    </tr>\n",
       "    <tr>\n",
       "      <th>1</th>\n",
       "      <td>80117401</td>\n",
       "      <td>Movie</td>\n",
       "      <td>Jandino: Whatever it Takes</td>\n",
       "      <td>NaN</td>\n",
       "      <td>Jandino Asporaat</td>\n",
       "      <td>United Kingdom</td>\n",
       "      <td>September 9, 2016</td>\n",
       "      <td>2016</td>\n",
       "      <td>TV-MA</td>\n",
       "      <td>94 min</td>\n",
       "      <td>Stand-Up Comedy</td>\n",
       "      <td>Jandino Asporaat riffs on the challenges of ra...</td>\n",
       "    </tr>\n",
       "    <tr>\n",
       "      <th>2</th>\n",
       "      <td>70234439</td>\n",
       "      <td>TV Show</td>\n",
       "      <td>Transformers Prime</td>\n",
       "      <td>NaN</td>\n",
       "      <td>Peter Cullen, Sumalee Montano, Frank Welker, J...</td>\n",
       "      <td>United States</td>\n",
       "      <td>September 8, 2018</td>\n",
       "      <td>2013</td>\n",
       "      <td>TV-Y7-FV</td>\n",
       "      <td>1 Season</td>\n",
       "      <td>Kids' TV</td>\n",
       "      <td>With the help of three human allies, the Autob...</td>\n",
       "    </tr>\n",
       "    <tr>\n",
       "      <th>3</th>\n",
       "      <td>80058654</td>\n",
       "      <td>TV Show</td>\n",
       "      <td>Transformers: Robots in Disguise</td>\n",
       "      <td>NaN</td>\n",
       "      <td>Will Friedle, Darren Criss, Constance Zimmer, ...</td>\n",
       "      <td>United States</td>\n",
       "      <td>September 8, 2018</td>\n",
       "      <td>2016</td>\n",
       "      <td>TV-Y7</td>\n",
       "      <td>1 Season</td>\n",
       "      <td>Kids' TV</td>\n",
       "      <td>When a prison ship crash unleashes hundreds of...</td>\n",
       "    </tr>\n",
       "    <tr>\n",
       "      <th>4</th>\n",
       "      <td>80125979</td>\n",
       "      <td>Movie</td>\n",
       "      <td>#realityhigh</td>\n",
       "      <td>Fernando Lebrija</td>\n",
       "      <td>Nesta Cooper, Kate Walsh, John Michael Higgins...</td>\n",
       "      <td>United States</td>\n",
       "      <td>September 8, 2017</td>\n",
       "      <td>2017</td>\n",
       "      <td>TV-14</td>\n",
       "      <td>99 min</td>\n",
       "      <td>Comedies</td>\n",
       "      <td>When nerdy high schooler Dani finally attracts...</td>\n",
       "    </tr>\n",
       "  </tbody>\n",
       "</table>\n",
       "</div>"
      ],
      "text/plain": [
       "    show_id     type                                    title  \\\n",
       "0  81145628    Movie  Norm of the North: King Sized Adventure   \n",
       "1  80117401    Movie               Jandino: Whatever it Takes   \n",
       "2  70234439  TV Show                       Transformers Prime   \n",
       "3  80058654  TV Show         Transformers: Robots in Disguise   \n",
       "4  80125979    Movie                             #realityhigh   \n",
       "\n",
       "                   director  \\\n",
       "0  Richard Finn, Tim Maltby   \n",
       "1                       NaN   \n",
       "2                       NaN   \n",
       "3                       NaN   \n",
       "4          Fernando Lebrija   \n",
       "\n",
       "                                                cast  \\\n",
       "0  Alan Marriott, Andrew Toth, Brian Dobson, Cole...   \n",
       "1                                   Jandino Asporaat   \n",
       "2  Peter Cullen, Sumalee Montano, Frank Welker, J...   \n",
       "3  Will Friedle, Darren Criss, Constance Zimmer, ...   \n",
       "4  Nesta Cooper, Kate Walsh, John Michael Higgins...   \n",
       "\n",
       "                                    country         date_added  release_year  \\\n",
       "0  United States, India, South Korea, China  September 9, 2019          2019   \n",
       "1                            United Kingdom  September 9, 2016          2016   \n",
       "2                             United States  September 8, 2018          2013   \n",
       "3                             United States  September 8, 2018          2016   \n",
       "4                             United States  September 8, 2017          2017   \n",
       "\n",
       "     rating  duration                           listed_in  \\\n",
       "0     TV-PG    90 min  Children & Family Movies, Comedies   \n",
       "1     TV-MA    94 min                     Stand-Up Comedy   \n",
       "2  TV-Y7-FV  1 Season                            Kids' TV   \n",
       "3     TV-Y7  1 Season                            Kids' TV   \n",
       "4     TV-14    99 min                            Comedies   \n",
       "\n",
       "                                         description  \n",
       "0  Before planning an awesome wedding for his gra...  \n",
       "1  Jandino Asporaat riffs on the challenges of ra...  \n",
       "2  With the help of three human allies, the Autob...  \n",
       "3  When a prison ship crash unleashes hundreds of...  \n",
       "4  When nerdy high schooler Dani finally attracts...  "
      ]
     },
     "execution_count": 5,
     "metadata": {},
     "output_type": "execute_result"
    }
   ],
   "source": [
    "print(df_netflix.shape)\n",
    "df_netflix.head()"
   ]
  },
  {
   "cell_type": "markdown",
   "metadata": {},
   "source": [
    "Variables description:  \n",
    "* show_id - unique ID for every Movie / Tv Show  \n",
    "* type - identifier for Movie or TV Show  \n",
    "* title - Movie / Tv Show title  \n",
    "* director - movie / tv show director  \n",
    "* cast - actors involved in the movie / show  \n",
    "* country - country where the movie / show was produced  \n",
    "* date_added - date it was added on Netflix  \n",
    "* release_year - actual release year of the move / show  \n",
    "* rating - movie / show classification  \n",
    "* duration - total duration in minutes or number of seasons  \n",
    "* listed_in - genere  \n",
    "* description - summary description  "
   ]
  },
  {
   "cell_type": "markdown",
   "metadata": {},
   "source": [
    "Checking all existing contents types "
   ]
  },
  {
   "cell_type": "code",
   "execution_count": 6,
   "metadata": {},
   "outputs": [
    {
     "data": {
      "text/plain": [
       "array(['Movie', 'TV Show'], dtype=object)"
      ]
     },
     "execution_count": 6,
     "metadata": {},
     "output_type": "execute_result"
    }
   ],
   "source": [
    "df_netflix['type'].unique()"
   ]
  },
  {
   "cell_type": "markdown",
   "metadata": {},
   "source": [
    "Checking types"
   ]
  },
  {
   "cell_type": "code",
   "execution_count": 7,
   "metadata": {},
   "outputs": [
    {
     "data": {
      "text/plain": [
       "show_id          int64\n",
       "type            object\n",
       "title           object\n",
       "director        object\n",
       "cast            object\n",
       "country         object\n",
       "date_added      object\n",
       "release_year     int64\n",
       "rating          object\n",
       "duration        object\n",
       "listed_in       object\n",
       "description     object\n",
       "dtype: object"
      ]
     },
     "execution_count": 7,
     "metadata": {},
     "output_type": "execute_result"
    }
   ],
   "source": [
    "df_netflix.dtypes"
   ]
  },
  {
   "cell_type": "markdown",
   "metadata": {},
   "source": [
    "Changing the format of'date_added' field for manipulations"
   ]
  },
  {
   "cell_type": "code",
   "execution_count": 8,
   "metadata": {},
   "outputs": [],
   "source": [
    "df_netflix['date_added'] = pd.to_datetime(df_netflix['date_added'])"
   ]
  },
  {
   "cell_type": "markdown",
   "metadata": {},
   "source": [
    "Checking if there are duplicates based on the 'title', 'country', 'type' and 'release_year' variables"
   ]
  },
  {
   "cell_type": "code",
   "execution_count": 9,
   "metadata": {},
   "outputs": [
    {
     "data": {
      "text/plain": [
       "title               country                        type     release_year\n",
       "Kakegurui           Japan                          TV Show  2019            2\n",
       "Sarkar              India                          Movie    2018            2\n",
       "반드시 잡는다             South Korea                    Movie    2017            1\n",
       "Haters Back Off     United States                  TV Show  2017            1\n",
       "Harry and Snowman   United States                  Movie    2015            1\n",
       "                                                                           ..\n",
       "Revolting Rhymes    United Kingdom                 TV Show  2017            1\n",
       "Revolutionary Road  United States, United Kingdom  Movie    2008            1\n",
       "Rezeta              Mexico                         Movie    2012            1\n",
       "Rhythm + Flow       United States                  TV Show  2019            1\n",
       "#Roxy               Canada                         Movie    2018            1\n",
       "Name: show_id, Length: 5756, dtype: int64"
      ]
     },
     "execution_count": 9,
     "metadata": {},
     "output_type": "execute_result"
    }
   ],
   "source": [
    "check = df_netflix.groupby(['title', 'country', 'type', 'release_year'])[\"show_id\"].count().sort_values(ascending=False)\n",
    "check"
   ]
  },
  {
   "cell_type": "code",
   "execution_count": 10,
   "metadata": {},
   "outputs": [
    {
     "data": {
      "text/html": [
       "<div>\n",
       "<style scoped>\n",
       "    .dataframe tbody tr th:only-of-type {\n",
       "        vertical-align: middle;\n",
       "    }\n",
       "\n",
       "    .dataframe tbody tr th {\n",
       "        vertical-align: top;\n",
       "    }\n",
       "\n",
       "    .dataframe thead th {\n",
       "        text-align: right;\n",
       "    }\n",
       "</style>\n",
       "<table border=\"1\" class=\"dataframe\">\n",
       "  <thead>\n",
       "    <tr style=\"text-align: right;\">\n",
       "      <th></th>\n",
       "      <th>show_id</th>\n",
       "      <th>type</th>\n",
       "      <th>title</th>\n",
       "      <th>director</th>\n",
       "      <th>cast</th>\n",
       "      <th>country</th>\n",
       "      <th>date_added</th>\n",
       "      <th>release_year</th>\n",
       "      <th>rating</th>\n",
       "      <th>duration</th>\n",
       "      <th>listed_in</th>\n",
       "      <th>description</th>\n",
       "    </tr>\n",
       "  </thead>\n",
       "  <tbody>\n",
       "    <tr>\n",
       "      <th>2123</th>\n",
       "      <td>81075235</td>\n",
       "      <td>Movie</td>\n",
       "      <td>Sarkar</td>\n",
       "      <td>A.R. Murugadoss</td>\n",
       "      <td>Vijay, Varalakshmi Sarathkumar, Keerthi Suresh...</td>\n",
       "      <td>India</td>\n",
       "      <td>2019-03-02</td>\n",
       "      <td>2018</td>\n",
       "      <td>TV-MA</td>\n",
       "      <td>162 min</td>\n",
       "      <td>Action &amp; Adventure, Dramas, International Movies</td>\n",
       "      <td>A ruthless businessman’s mission to expose ele...</td>\n",
       "    </tr>\n",
       "    <tr>\n",
       "      <th>2124</th>\n",
       "      <td>81072516</td>\n",
       "      <td>Movie</td>\n",
       "      <td>Sarkar</td>\n",
       "      <td>A.R. Murugadoss</td>\n",
       "      <td>Vijay, Varalakshmi Sarathkumar, Keerthi Suresh...</td>\n",
       "      <td>India</td>\n",
       "      <td>2019-03-02</td>\n",
       "      <td>2018</td>\n",
       "      <td>TV-MA</td>\n",
       "      <td>162 min</td>\n",
       "      <td>Action &amp; Adventure, Dramas, International Movies</td>\n",
       "      <td>A ruthless businessman’s mission to expose ele...</td>\n",
       "    </tr>\n",
       "  </tbody>\n",
       "</table>\n",
       "</div>"
      ],
      "text/plain": [
       "       show_id   type   title         director  \\\n",
       "2123  81075235  Movie  Sarkar  A.R. Murugadoss   \n",
       "2124  81072516  Movie  Sarkar  A.R. Murugadoss   \n",
       "\n",
       "                                                   cast country date_added  \\\n",
       "2123  Vijay, Varalakshmi Sarathkumar, Keerthi Suresh...   India 2019-03-02   \n",
       "2124  Vijay, Varalakshmi Sarathkumar, Keerthi Suresh...   India 2019-03-02   \n",
       "\n",
       "      release_year rating duration  \\\n",
       "2123          2018  TV-MA  162 min   \n",
       "2124          2018  TV-MA  162 min   \n",
       "\n",
       "                                             listed_in  \\\n",
       "2123  Action & Adventure, Dramas, International Movies   \n",
       "2124  Action & Adventure, Dramas, International Movies   \n",
       "\n",
       "                                            description  \n",
       "2123  A ruthless businessman’s mission to expose ele...  \n",
       "2124  A ruthless businessman’s mission to expose ele...  "
      ]
     },
     "execution_count": 10,
     "metadata": {},
     "output_type": "execute_result"
    }
   ],
   "source": [
    "df_netflix.loc[df_netflix['title']=='Sarkar']"
   ]
  },
  {
   "cell_type": "markdown",
   "metadata": {},
   "source": [
    "Let`s remove these duplicates"
   ]
  },
  {
   "cell_type": "code",
   "execution_count": 11,
   "metadata": {},
   "outputs": [
    {
     "name": "stdout",
     "output_type": "stream",
     "text": [
      "(6234, 12)\n",
      "(6232, 12)\n"
     ]
    }
   ],
   "source": [
    "print(df_netflix.shape)\n",
    "df_netflix = df_netflix.drop_duplicates(subset=['title', 'country', 'type', 'release_year'])\n",
    "print(df_netflix.shape)"
   ]
  },
  {
   "cell_type": "markdown",
   "metadata": {},
   "source": [
    "Checking nulls"
   ]
  },
  {
   "cell_type": "code",
   "execution_count": 12,
   "metadata": {},
   "outputs": [
    {
     "data": {
      "text/plain": [
       "show_id            0\n",
       "type               0\n",
       "title              0\n",
       "director        1968\n",
       "cast             570\n",
       "country          476\n",
       "date_added        11\n",
       "release_year       0\n",
       "rating            10\n",
       "duration           0\n",
       "listed_in          0\n",
       "description        0\n",
       "dtype: int64"
      ]
     },
     "execution_count": 12,
     "metadata": {},
     "output_type": "execute_result"
    }
   ],
   "source": [
    "df_netflix.isnull().sum()"
   ]
  },
  {
   "cell_type": "markdown",
   "metadata": {},
   "source": [
    "From the above output we see that we have missing values for variables director, cast, country, data_added and rating.  \n",
    "For data_added and rating variables i will fill in with mode.  \n",
    "For director, cast and country variables, i will fill with 'Unknown'"
   ]
  },
  {
   "cell_type": "code",
   "execution_count": 13,
   "metadata": {},
   "outputs": [],
   "source": [
    "df_netflix['rating'].fillna(df_netflix['rating'].mode()[0], inplace=True)\n",
    "df_netflix['date_added'].fillna(df_netflix['date_added'].mode()[0], inplace=True)\n",
    "df_netflix['director'].fillna('Unknown', inplace=True)\n",
    "df_netflix['cast'].fillna('Unknown', inplace=True)\n",
    "df_netflix['country'].fillna('Unknown', inplace=True)"
   ]
  },
  {
   "cell_type": "code",
   "execution_count": 14,
   "metadata": {},
   "outputs": [
    {
     "data": {
      "text/plain": [
       "show_id         0\n",
       "type            0\n",
       "title           0\n",
       "director        0\n",
       "cast            0\n",
       "country         0\n",
       "date_added      0\n",
       "release_year    0\n",
       "rating          0\n",
       "duration        0\n",
       "listed_in       0\n",
       "description     0\n",
       "dtype: int64"
      ]
     },
     "execution_count": 14,
     "metadata": {},
     "output_type": "execute_result"
    }
   ],
   "source": [
    "df_netflix.isnull().sum()"
   ]
  },
  {
   "cell_type": "markdown",
   "metadata": {},
   "source": [
    "Before merge with IMDb datsets, let's investigate a little bit about Netflix dataset"
   ]
  },
  {
   "cell_type": "markdown",
   "metadata": {},
   "source": [
    "### What is the amount of Netflix title per type? "
   ]
  },
  {
   "cell_type": "code",
   "execution_count": 15,
   "metadata": {},
   "outputs": [
    {
     "data": {
      "text/plain": [
       "Text(0.5, 1.0, 'Amount of Netflix title per type (%)')"
      ]
     },
     "execution_count": 15,
     "metadata": {},
     "output_type": "execute_result"
    },
    {
     "data": {
      "image/png": "[encoded data removed]",
      "text/plain": [
       "<Figure size 1152x576 with 1 Axes>"
      ]
     },
     "metadata": {
      "needs_background": "light"
     },
     "output_type": "display_data"
    }
   ],
   "source": [
    "df_netflix_amount = df_netflix.groupby(['type'], as_index=False)['show_id'].count() \n",
    "df_netflix_amount.columns = ['type', 'count']\n",
    "df_netflix_amount['count'] = df_netflix_amount['count'] / df_netflix['show_id'].count()\n",
    "\n",
    "sns.barplot(x='type', y='count', data = df_netflix_amount, palette=['red', 'grey'])\n",
    "plt.xlabel('Title type', fontsize='12')\n",
    "plt.ylabel('', fontsize='12')\n",
    "plt.title('Amount of Netflix title per type (%)', fontsize='16')"
   ]
  },
  {
   "cell_type": "markdown",
   "metadata": {},
   "source": [
    "68% of Netflix dataset titles are Movies and 32% are TV Shows "
   ]
  },
  {
   "cell_type": "markdown",
   "metadata": {},
   "source": [
    "### In recent years, Netflix has focusing most on Movies or TV shows? "
   ]
  },
  {
   "cell_type": "code",
   "execution_count": 16,
   "metadata": {},
   "outputs": [
    {
     "data": {
      "image/png": "[encoded data removed]",
      "text/plain": [
       "<Figure size 1152x576 with 1 Axes>"
      ]
     },
     "metadata": {
      "needs_background": "light"
     },
     "output_type": "display_data"
    }
   ],
   "source": [
    "df_added = df_netflix.groupby(['date_added', 'type'], as_index=False)['show_id'].count().sort_values(by='date_added')\n",
    "df_added = df_added.pivot(index='date_added', columns='type' ,values=\"show_id\").fillna(0)\n",
    "df_added = df_added.cumsum()\n",
    "\n",
    "fig = plt.figure(1)\n",
    "plt.title('In recent years, Netflix has focusing most on Movies or TV shows?', fontsize='16')\n",
    "plt.plot(df_added['Movie'], color='red', label='Movie')\n",
    "plt.plot(df_added['TV Show'], color='grey', label='TV Show')\n",
    "plt.legend(loc='best')\n",
    "plt.xlim(df_added.index[0], df_added.index[-1])\n",
    "plt.xlabel('Date title was added', fontsize='12')\n",
    "plt.show()"
   ]
  },
  {
   "cell_type": "markdown",
   "metadata": {},
   "source": [
    "### Importing IMDb datasets"
   ]
  },
  {
   "cell_type": "markdown",
   "metadata": {},
   "source": [
    "##### Basics information Dataset"
   ]
  },
  {
   "cell_type": "code",
   "execution_count": 17,
   "metadata": {},
   "outputs": [
    {
     "name": "stderr",
     "output_type": "stream",
     "text": [
      "C:\\Users\\laissamedeiros\\AppData\\Local\\Continuum\\anaconda3\\lib\\site-packages\\IPython\\core\\interactiveshell.py:3063: DtypeWarning: Columns (4,5) have mixed types.Specify dtype option on import or set low_memory=False.\n",
      "  interactivity=interactivity, compiler=compiler, result=result)\n"
     ]
    }
   ],
   "source": [
    "df_imdb_basics = pd.read_csv(os.path.join('Datasets', file2), sep='\\t')"
   ]
  },
  {
   "cell_type": "code",
   "execution_count": 18,
   "metadata": {},
   "outputs": [
    {
     "name": "stdout",
     "output_type": "stream",
     "text": [
      "(7505065, 9)\n"
     ]
    },
    {
     "data": {
      "text/html": [
       "<div>\n",
       "<style scoped>\n",
       "    .dataframe tbody tr th:only-of-type {\n",
       "        vertical-align: middle;\n",
       "    }\n",
       "\n",
       "    .dataframe tbody tr th {\n",
       "        vertical-align: top;\n",
       "    }\n",
       "\n",
       "    .dataframe thead th {\n",
       "        text-align: right;\n",
       "    }\n",
       "</style>\n",
       "<table border=\"1\" class=\"dataframe\">\n",
       "  <thead>\n",
       "    <tr style=\"text-align: right;\">\n",
       "      <th></th>\n",
       "      <th>tconst</th>\n",
       "      <th>titleType</th>\n",
       "      <th>primaryTitle</th>\n",
       "      <th>originalTitle</th>\n",
       "      <th>isAdult</th>\n",
       "      <th>startYear</th>\n",
       "      <th>endYear</th>\n",
       "      <th>runtimeMinutes</th>\n",
       "      <th>genres</th>\n",
       "    </tr>\n",
       "  </thead>\n",
       "  <tbody>\n",
       "    <tr>\n",
       "      <th>0</th>\n",
       "      <td>tt0000001</td>\n",
       "      <td>short</td>\n",
       "      <td>Carmencita</td>\n",
       "      <td>Carmencita</td>\n",
       "      <td>0</td>\n",
       "      <td>1894</td>\n",
       "      <td>\\N</td>\n",
       "      <td>1</td>\n",
       "      <td>Documentary,Short</td>\n",
       "    </tr>\n",
       "    <tr>\n",
       "      <th>1</th>\n",
       "      <td>tt0000002</td>\n",
       "      <td>short</td>\n",
       "      <td>Le clown et ses chiens</td>\n",
       "      <td>Le clown et ses chiens</td>\n",
       "      <td>0</td>\n",
       "      <td>1892</td>\n",
       "      <td>\\N</td>\n",
       "      <td>5</td>\n",
       "      <td>Animation,Short</td>\n",
       "    </tr>\n",
       "    <tr>\n",
       "      <th>2</th>\n",
       "      <td>tt0000003</td>\n",
       "      <td>short</td>\n",
       "      <td>Pauvre Pierrot</td>\n",
       "      <td>Pauvre Pierrot</td>\n",
       "      <td>0</td>\n",
       "      <td>1892</td>\n",
       "      <td>\\N</td>\n",
       "      <td>4</td>\n",
       "      <td>Animation,Comedy,Romance</td>\n",
       "    </tr>\n",
       "    <tr>\n",
       "      <th>3</th>\n",
       "      <td>tt0000004</td>\n",
       "      <td>short</td>\n",
       "      <td>Un bon bock</td>\n",
       "      <td>Un bon bock</td>\n",
       "      <td>0</td>\n",
       "      <td>1892</td>\n",
       "      <td>\\N</td>\n",
       "      <td>12</td>\n",
       "      <td>Animation,Short</td>\n",
       "    </tr>\n",
       "    <tr>\n",
       "      <th>4</th>\n",
       "      <td>tt0000005</td>\n",
       "      <td>short</td>\n",
       "      <td>Blacksmith Scene</td>\n",
       "      <td>Blacksmith Scene</td>\n",
       "      <td>0</td>\n",
       "      <td>1893</td>\n",
       "      <td>\\N</td>\n",
       "      <td>1</td>\n",
       "      <td>Comedy,Short</td>\n",
       "    </tr>\n",
       "  </tbody>\n",
       "</table>\n",
       "</div>"
      ],
      "text/plain": [
       "      tconst titleType            primaryTitle           originalTitle  \\\n",
       "0  tt0000001     short              Carmencita              Carmencita   \n",
       "1  tt0000002     short  Le clown et ses chiens  Le clown et ses chiens   \n",
       "2  tt0000003     short          Pauvre Pierrot          Pauvre Pierrot   \n",
       "3  tt0000004     short             Un bon bock             Un bon bock   \n",
       "4  tt0000005     short        Blacksmith Scene        Blacksmith Scene   \n",
       "\n",
       "  isAdult startYear endYear runtimeMinutes                    genres  \n",
       "0       0      1894      \\N              1         Documentary,Short  \n",
       "1       0      1892      \\N              5           Animation,Short  \n",
       "2       0      1892      \\N              4  Animation,Comedy,Romance  \n",
       "3       0      1892      \\N             12           Animation,Short  \n",
       "4       0      1893      \\N              1              Comedy,Short  "
      ]
     },
     "execution_count": 18,
     "metadata": {},
     "output_type": "execute_result"
    }
   ],
   "source": [
    "print(df_imdb_basics.shape)\n",
    "df_imdb_basics.head()"
   ]
  },
  {
   "cell_type": "markdown",
   "metadata": {},
   "source": [
    "Variables description:  \n",
    "* tconst - unique identifier of the title  \n",
    "* titleType - type/format of the title (e.g. movie, short, tvseries, tvepisode, video, etc)  \n",
    "* primaryTitle - more popular title / the title used by the filmmakers on promotional materials at the point of release  \n",
    "* originalTitle - original title, in the original language  \n",
    "* isAdult - 0: non-adult title; 1: adult title  \n",
    "* startYear – represents the release year of a title. In the case of TV Series, it is the series start year\n",
    "* endYear - TV Series end year \n",
    "* runtimeMinutes – primary runtime of the title in minutes  \n",
    "* genres - includes up to three genres associated with the title  "
   ]
  },
  {
   "cell_type": "markdown",
   "metadata": {},
   "source": [
    "Checking for nulls"
   ]
  },
  {
   "cell_type": "code",
   "execution_count": 19,
   "metadata": {},
   "outputs": [
    {
     "data": {
      "text/plain": [
       "tconst             0\n",
       "titleType          0\n",
       "primaryTitle       8\n",
       "originalTitle      8\n",
       "isAdult            0\n",
       "startYear          0\n",
       "endYear            0\n",
       "runtimeMinutes     0\n",
       "genres            10\n",
       "dtype: int64"
      ]
     },
     "execution_count": 19,
     "metadata": {},
     "output_type": "execute_result"
    }
   ],
   "source": [
    "df_imdb_basics.isnull().sum()"
   ]
  },
  {
   "cell_type": "markdown",
   "metadata": {},
   "source": [
    "There are 8 contents without primary title and 8 with original title. Let's see if they are the same contents:"
   ]
  },
  {
   "cell_type": "code",
   "execution_count": 20,
   "metadata": {},
   "outputs": [
    {
     "data": {
      "text/html": [
       "<div>\n",
       "<style scoped>\n",
       "    .dataframe tbody tr th:only-of-type {\n",
       "        vertical-align: middle;\n",
       "    }\n",
       "\n",
       "    .dataframe tbody tr th {\n",
       "        vertical-align: top;\n",
       "    }\n",
       "\n",
       "    .dataframe thead th {\n",
       "        text-align: right;\n",
       "    }\n",
       "</style>\n",
       "<table border=\"1\" class=\"dataframe\">\n",
       "  <thead>\n",
       "    <tr style=\"text-align: right;\">\n",
       "      <th></th>\n",
       "      <th>tconst</th>\n",
       "      <th>titleType</th>\n",
       "      <th>primaryTitle</th>\n",
       "      <th>originalTitle</th>\n",
       "      <th>isAdult</th>\n",
       "      <th>startYear</th>\n",
       "      <th>endYear</th>\n",
       "      <th>runtimeMinutes</th>\n",
       "      <th>genres</th>\n",
       "    </tr>\n",
       "  </thead>\n",
       "  <tbody>\n",
       "    <tr>\n",
       "      <th>1419525</th>\n",
       "      <td>tt10790040</td>\n",
       "      <td>tvEpisode</td>\n",
       "      <td>NaN</td>\n",
       "      <td>NaN</td>\n",
       "      <td>0</td>\n",
       "      <td>2019</td>\n",
       "      <td>\\N</td>\n",
       "      <td>\\N</td>\n",
       "      <td>\\N</td>\n",
       "    </tr>\n",
       "    <tr>\n",
       "      <th>3711277</th>\n",
       "      <td>tt1971246</td>\n",
       "      <td>tvEpisode</td>\n",
       "      <td>NaN</td>\n",
       "      <td>NaN</td>\n",
       "      <td>0</td>\n",
       "      <td>2011</td>\n",
       "      <td>\\N</td>\n",
       "      <td>\\N</td>\n",
       "      <td>Biography</td>\n",
       "    </tr>\n",
       "    <tr>\n",
       "      <th>3803830</th>\n",
       "      <td>tt2067043</td>\n",
       "      <td>tvEpisode</td>\n",
       "      <td>NaN</td>\n",
       "      <td>NaN</td>\n",
       "      <td>0</td>\n",
       "      <td>1965</td>\n",
       "      <td>\\N</td>\n",
       "      <td>\\N</td>\n",
       "      <td>Music</td>\n",
       "    </tr>\n",
       "    <tr>\n",
       "      <th>4969409</th>\n",
       "      <td>tt4404732</td>\n",
       "      <td>tvEpisode</td>\n",
       "      <td>NaN</td>\n",
       "      <td>NaN</td>\n",
       "      <td>0</td>\n",
       "      <td>2015</td>\n",
       "      <td>\\N</td>\n",
       "      <td>\\N</td>\n",
       "      <td>Comedy</td>\n",
       "    </tr>\n",
       "    <tr>\n",
       "      <th>5578102</th>\n",
       "      <td>tt5773048</td>\n",
       "      <td>tvEpisode</td>\n",
       "      <td>NaN</td>\n",
       "      <td>NaN</td>\n",
       "      <td>0</td>\n",
       "      <td>2015</td>\n",
       "      <td>\\N</td>\n",
       "      <td>\\N</td>\n",
       "      <td>Talk-Show</td>\n",
       "    </tr>\n",
       "    <tr>\n",
       "      <th>6823592</th>\n",
       "      <td>tt8473688</td>\n",
       "      <td>tvEpisode</td>\n",
       "      <td>NaN</td>\n",
       "      <td>NaN</td>\n",
       "      <td>0</td>\n",
       "      <td>1987</td>\n",
       "      <td>\\N</td>\n",
       "      <td>\\N</td>\n",
       "      <td>Drama</td>\n",
       "    </tr>\n",
       "    <tr>\n",
       "      <th>6855307</th>\n",
       "      <td>tt8541336</td>\n",
       "      <td>tvEpisode</td>\n",
       "      <td>NaN</td>\n",
       "      <td>NaN</td>\n",
       "      <td>0</td>\n",
       "      <td>2018</td>\n",
       "      <td>\\N</td>\n",
       "      <td>\\N</td>\n",
       "      <td>Reality-TV,Romance</td>\n",
       "    </tr>\n",
       "    <tr>\n",
       "      <th>7461004</th>\n",
       "      <td>tt9824302</td>\n",
       "      <td>tvEpisode</td>\n",
       "      <td>NaN</td>\n",
       "      <td>NaN</td>\n",
       "      <td>0</td>\n",
       "      <td>2016</td>\n",
       "      <td>\\N</td>\n",
       "      <td>\\N</td>\n",
       "      <td>Documentary</td>\n",
       "    </tr>\n",
       "  </tbody>\n",
       "</table>\n",
       "</div>"
      ],
      "text/plain": [
       "             tconst  titleType primaryTitle originalTitle isAdult startYear  \\\n",
       "1419525  tt10790040  tvEpisode          NaN           NaN       0      2019   \n",
       "3711277   tt1971246  tvEpisode          NaN           NaN       0      2011   \n",
       "3803830   tt2067043  tvEpisode          NaN           NaN       0      1965   \n",
       "4969409   tt4404732  tvEpisode          NaN           NaN       0      2015   \n",
       "5578102   tt5773048  tvEpisode          NaN           NaN       0      2015   \n",
       "6823592   tt8473688  tvEpisode          NaN           NaN       0      1987   \n",
       "6855307   tt8541336  tvEpisode          NaN           NaN       0      2018   \n",
       "7461004   tt9824302  tvEpisode          NaN           NaN       0      2016   \n",
       "\n",
       "        endYear runtimeMinutes              genres  \n",
       "1419525      \\N             \\N                  \\N  \n",
       "3711277      \\N             \\N           Biography  \n",
       "3803830      \\N             \\N               Music  \n",
       "4969409      \\N             \\N              Comedy  \n",
       "5578102      \\N             \\N           Talk-Show  \n",
       "6823592      \\N             \\N               Drama  \n",
       "6855307      \\N             \\N  Reality-TV,Romance  \n",
       "7461004      \\N             \\N         Documentary  "
      ]
     },
     "execution_count": 20,
     "metadata": {},
     "output_type": "execute_result"
    }
   ],
   "source": [
    "df_imdb_basics.loc[df_imdb_basics['primaryTitle'].isnull()]"
   ]
  },
  {
   "cell_type": "markdown",
   "metadata": {},
   "source": [
    "Yes, they are. We will have to remove this 8 rows, because we need this information to merge this dataset with Nexflix dataset"
   ]
  },
  {
   "cell_type": "code",
   "execution_count": 21,
   "metadata": {},
   "outputs": [
    {
     "data": {
      "text/plain": [
       "tconst             0\n",
       "titleType          0\n",
       "primaryTitle       0\n",
       "originalTitle      0\n",
       "isAdult            0\n",
       "startYear          0\n",
       "endYear            0\n",
       "runtimeMinutes     0\n",
       "genres            10\n",
       "dtype: int64"
      ]
     },
     "execution_count": 21,
     "metadata": {},
     "output_type": "execute_result"
    }
   ],
   "source": [
    "df_imdb_basics = df_imdb_basics.loc[~df_imdb_basics['primaryTitle'].isnull()]\n",
    "df_imdb_basics.isnull().sum()"
   ]
  },
  {
   "cell_type": "markdown",
   "metadata": {},
   "source": [
    "Checking types"
   ]
  },
  {
   "cell_type": "code",
   "execution_count": 22,
   "metadata": {},
   "outputs": [
    {
     "data": {
      "text/plain": [
       "tconst            object\n",
       "titleType         object\n",
       "primaryTitle      object\n",
       "originalTitle     object\n",
       "isAdult           object\n",
       "startYear         object\n",
       "endYear           object\n",
       "runtimeMinutes    object\n",
       "genres            object\n",
       "dtype: object"
      ]
     },
     "execution_count": 22,
     "metadata": {},
     "output_type": "execute_result"
    }
   ],
   "source": [
    "df_imdb_basics.dtypes"
   ]
  },
  {
   "cell_type": "markdown",
   "metadata": {},
   "source": [
    "##### Ratings Dataset"
   ]
  },
  {
   "cell_type": "code",
   "execution_count": 23,
   "metadata": {},
   "outputs": [],
   "source": [
    "df_imdb_ratings = pd.read_csv(os.path.join('Datasets', file3), sep='\\t')"
   ]
  },
  {
   "cell_type": "code",
   "execution_count": 24,
   "metadata": {},
   "outputs": [
    {
     "name": "stdout",
     "output_type": "stream",
     "text": [
      "(1110898, 3)\n"
     ]
    },
    {
     "data": {
      "text/html": [
       "<div>\n",
       "<style scoped>\n",
       "    .dataframe tbody tr th:only-of-type {\n",
       "        vertical-align: middle;\n",
       "    }\n",
       "\n",
       "    .dataframe tbody tr th {\n",
       "        vertical-align: top;\n",
       "    }\n",
       "\n",
       "    .dataframe thead th {\n",
       "        text-align: right;\n",
       "    }\n",
       "</style>\n",
       "<table border=\"1\" class=\"dataframe\">\n",
       "  <thead>\n",
       "    <tr style=\"text-align: right;\">\n",
       "      <th></th>\n",
       "      <th>tconst</th>\n",
       "      <th>averageRating</th>\n",
       "      <th>numVotes</th>\n",
       "    </tr>\n",
       "  </thead>\n",
       "  <tbody>\n",
       "    <tr>\n",
       "      <th>0</th>\n",
       "      <td>tt0000001</td>\n",
       "      <td>5.6</td>\n",
       "      <td>1676</td>\n",
       "    </tr>\n",
       "    <tr>\n",
       "      <th>1</th>\n",
       "      <td>tt0000002</td>\n",
       "      <td>6.1</td>\n",
       "      <td>209</td>\n",
       "    </tr>\n",
       "    <tr>\n",
       "      <th>2</th>\n",
       "      <td>tt0000003</td>\n",
       "      <td>6.5</td>\n",
       "      <td>1398</td>\n",
       "    </tr>\n",
       "    <tr>\n",
       "      <th>3</th>\n",
       "      <td>tt0000004</td>\n",
       "      <td>6.2</td>\n",
       "      <td>123</td>\n",
       "    </tr>\n",
       "    <tr>\n",
       "      <th>4</th>\n",
       "      <td>tt0000005</td>\n",
       "      <td>6.2</td>\n",
       "      <td>2191</td>\n",
       "    </tr>\n",
       "  </tbody>\n",
       "</table>\n",
       "</div>"
      ],
      "text/plain": [
       "      tconst  averageRating  numVotes\n",
       "0  tt0000001            5.6      1676\n",
       "1  tt0000002            6.1       209\n",
       "2  tt0000003            6.5      1398\n",
       "3  tt0000004            6.2       123\n",
       "4  tt0000005            6.2      2191"
      ]
     },
     "execution_count": 24,
     "metadata": {},
     "output_type": "execute_result"
    }
   ],
   "source": [
    "print(df_imdb_ratings.shape)\n",
    "df_imdb_ratings.head()"
   ]
  },
  {
   "cell_type": "markdown",
   "metadata": {},
   "source": [
    "Variables description:\n",
    "* tconst - unique identifier of the title\n",
    "* averageRating – weighted average of all the individual user ratings  \n",
    "* numVotes - number of votes the title has received  "
   ]
  },
  {
   "cell_type": "markdown",
   "metadata": {},
   "source": [
    "Checking for nulls"
   ]
  },
  {
   "cell_type": "code",
   "execution_count": 25,
   "metadata": {},
   "outputs": [
    {
     "data": {
      "text/plain": [
       "tconst           0\n",
       "averageRating    0\n",
       "numVotes         0\n",
       "dtype: int64"
      ]
     },
     "execution_count": 25,
     "metadata": {},
     "output_type": "execute_result"
    }
   ],
   "source": [
    "df_imdb_ratings.isnull().sum()"
   ]
  },
  {
   "cell_type": "markdown",
   "metadata": {},
   "source": [
    "No nulls for this one!"
   ]
  },
  {
   "cell_type": "markdown",
   "metadata": {},
   "source": [
    "Checking if there is more than one rating for some content"
   ]
  },
  {
   "cell_type": "code",
   "execution_count": 26,
   "metadata": {},
   "outputs": [
    {
     "data": {
      "text/plain": [
       "0"
      ]
     },
     "execution_count": 26,
     "metadata": {},
     "output_type": "execute_result"
    }
   ],
   "source": [
    "check = df_imdb_ratings.groupby(\"tconst\", as_index=False)[\"averageRating\"].count()\n",
    "check['tconst'].loc[check['averageRating']>1].count()"
   ]
  },
  {
   "cell_type": "markdown",
   "metadata": {},
   "source": [
    "Checking types"
   ]
  },
  {
   "cell_type": "code",
   "execution_count": 27,
   "metadata": {
    "scrolled": true
   },
   "outputs": [
    {
     "data": {
      "text/plain": [
       "tconst            object\n",
       "averageRating    float64\n",
       "numVotes           int64\n",
       "dtype: object"
      ]
     },
     "execution_count": 27,
     "metadata": {},
     "output_type": "execute_result"
    }
   ],
   "source": [
    "df_imdb_ratings.dtypes"
   ]
  },
  {
   "cell_type": "markdown",
   "metadata": {},
   "source": [
    "### Merging the two IMDb datasets"
   ]
  },
  {
   "cell_type": "code",
   "execution_count": 28,
   "metadata": {},
   "outputs": [
    {
     "name": "stdout",
     "output_type": "stream",
     "text": [
      "(1110893, 11)\n"
     ]
    },
    {
     "data": {
      "text/html": [
       "<div>\n",
       "<style scoped>\n",
       "    .dataframe tbody tr th:only-of-type {\n",
       "        vertical-align: middle;\n",
       "    }\n",
       "\n",
       "    .dataframe tbody tr th {\n",
       "        vertical-align: top;\n",
       "    }\n",
       "\n",
       "    .dataframe thead th {\n",
       "        text-align: right;\n",
       "    }\n",
       "</style>\n",
       "<table border=\"1\" class=\"dataframe\">\n",
       "  <thead>\n",
       "    <tr style=\"text-align: right;\">\n",
       "      <th></th>\n",
       "      <th>tconst</th>\n",
       "      <th>titleType</th>\n",
       "      <th>primaryTitle</th>\n",
       "      <th>originalTitle</th>\n",
       "      <th>isAdult</th>\n",
       "      <th>startYear</th>\n",
       "      <th>endYear</th>\n",
       "      <th>runtimeMinutes</th>\n",
       "      <th>genres</th>\n",
       "      <th>averageRating</th>\n",
       "      <th>numVotes</th>\n",
       "    </tr>\n",
       "  </thead>\n",
       "  <tbody>\n",
       "    <tr>\n",
       "      <th>0</th>\n",
       "      <td>tt0000001</td>\n",
       "      <td>short</td>\n",
       "      <td>Carmencita</td>\n",
       "      <td>Carmencita</td>\n",
       "      <td>0</td>\n",
       "      <td>1894</td>\n",
       "      <td>\\N</td>\n",
       "      <td>1</td>\n",
       "      <td>Documentary,Short</td>\n",
       "      <td>5.6</td>\n",
       "      <td>1676</td>\n",
       "    </tr>\n",
       "    <tr>\n",
       "      <th>1</th>\n",
       "      <td>tt0000002</td>\n",
       "      <td>short</td>\n",
       "      <td>Le clown et ses chiens</td>\n",
       "      <td>Le clown et ses chiens</td>\n",
       "      <td>0</td>\n",
       "      <td>1892</td>\n",
       "      <td>\\N</td>\n",
       "      <td>5</td>\n",
       "      <td>Animation,Short</td>\n",
       "      <td>6.1</td>\n",
       "      <td>209</td>\n",
       "    </tr>\n",
       "    <tr>\n",
       "      <th>2</th>\n",
       "      <td>tt0000003</td>\n",
       "      <td>short</td>\n",
       "      <td>Pauvre Pierrot</td>\n",
       "      <td>Pauvre Pierrot</td>\n",
       "      <td>0</td>\n",
       "      <td>1892</td>\n",
       "      <td>\\N</td>\n",
       "      <td>4</td>\n",
       "      <td>Animation,Comedy,Romance</td>\n",
       "      <td>6.5</td>\n",
       "      <td>1398</td>\n",
       "    </tr>\n",
       "    <tr>\n",
       "      <th>3</th>\n",
       "      <td>tt0000004</td>\n",
       "      <td>short</td>\n",
       "      <td>Un bon bock</td>\n",
       "      <td>Un bon bock</td>\n",
       "      <td>0</td>\n",
       "      <td>1892</td>\n",
       "      <td>\\N</td>\n",
       "      <td>12</td>\n",
       "      <td>Animation,Short</td>\n",
       "      <td>6.2</td>\n",
       "      <td>123</td>\n",
       "    </tr>\n",
       "    <tr>\n",
       "      <th>4</th>\n",
       "      <td>tt0000005</td>\n",
       "      <td>short</td>\n",
       "      <td>Blacksmith Scene</td>\n",
       "      <td>Blacksmith Scene</td>\n",
       "      <td>0</td>\n",
       "      <td>1893</td>\n",
       "      <td>\\N</td>\n",
       "      <td>1</td>\n",
       "      <td>Comedy,Short</td>\n",
       "      <td>6.2</td>\n",
       "      <td>2191</td>\n",
       "    </tr>\n",
       "  </tbody>\n",
       "</table>\n",
       "</div>"
      ],
      "text/plain": [
       "      tconst titleType            primaryTitle           originalTitle  \\\n",
       "0  tt0000001     short              Carmencita              Carmencita   \n",
       "1  tt0000002     short  Le clown et ses chiens  Le clown et ses chiens   \n",
       "2  tt0000003     short          Pauvre Pierrot          Pauvre Pierrot   \n",
       "3  tt0000004     short             Un bon bock             Un bon bock   \n",
       "4  tt0000005     short        Blacksmith Scene        Blacksmith Scene   \n",
       "\n",
       "  isAdult startYear endYear runtimeMinutes                    genres  \\\n",
       "0       0      1894      \\N              1         Documentary,Short   \n",
       "1       0      1892      \\N              5           Animation,Short   \n",
       "2       0      1892      \\N              4  Animation,Comedy,Romance   \n",
       "3       0      1892      \\N             12           Animation,Short   \n",
       "4       0      1893      \\N              1              Comedy,Short   \n",
       "\n",
       "   averageRating  numVotes  \n",
       "0            5.6      1676  \n",
       "1            6.1       209  \n",
       "2            6.5      1398  \n",
       "3            6.2       123  \n",
       "4            6.2      2191  "
      ]
     },
     "execution_count": 28,
     "metadata": {},
     "output_type": "execute_result"
    }
   ],
   "source": [
    "df_imdb = df_imdb_basics.merge(df_imdb_ratings, how='inner', on='tconst')\n",
    "print(df_imdb.shape)\n",
    "df_imdb.head()"
   ]
  },
  {
   "cell_type": "markdown",
   "metadata": {},
   "source": [
    "Selecting columns"
   ]
  },
  {
   "cell_type": "code",
   "execution_count": 29,
   "metadata": {},
   "outputs": [],
   "source": [
    "df_imdb = df_imdb[['titleType', 'primaryTitle', 'startYear', 'averageRating','numVotes']]"
   ]
  },
  {
   "cell_type": "markdown",
   "metadata": {},
   "source": [
    "Removing duplicated rows"
   ]
  },
  {
   "cell_type": "code",
   "execution_count": 30,
   "metadata": {},
   "outputs": [
    {
     "data": {
      "text/plain": [
       "(1109446, 5)"
      ]
     },
     "execution_count": 30,
     "metadata": {},
     "output_type": "execute_result"
    }
   ],
   "source": [
    "df_imdb = df_imdb.drop_duplicates()\n",
    "df_imdb.shape"
   ]
  },
  {
   "cell_type": "markdown",
   "metadata": {},
   "source": [
    "Filtering just contents types of interest"
   ]
  },
  {
   "cell_type": "code",
   "execution_count": 31,
   "metadata": {},
   "outputs": [
    {
     "data": {
      "text/plain": [
       "(400079, 5)"
      ]
     },
     "execution_count": 31,
     "metadata": {},
     "output_type": "execute_result"
    }
   ],
   "source": [
    "types = ['movie', 'tvShort', 'tvSeries', 'tvMovie','tvMiniSeries', 'tvSpecial']\n",
    "df_imdb = df_imdb.loc[df_imdb['titleType'].isin(types)]\n",
    "df_imdb.shape"
   ]
  },
  {
   "cell_type": "markdown",
   "metadata": {},
   "source": [
    "We need to standardize the 'type' field because in the netflix dataset there are only two types: Movie and TV Show"
   ]
  },
  {
   "cell_type": "code",
   "execution_count": 32,
   "metadata": {},
   "outputs": [],
   "source": [
    "df_imdb['titleType'] = df_imdb['titleType'].apply(lambda x: 'Movie' if (x=='movie') or (x =='tvMovie') else 'TV Show')"
   ]
  },
  {
   "cell_type": "markdown",
   "metadata": {},
   "source": [
    "I will use the 'primaryTitle' and 'startYear' fields to merge imdb with nexflix datasets. But before let`s check if there are duplicated rows after grouping both fields"
   ]
  },
  {
   "cell_type": "code",
   "execution_count": 33,
   "metadata": {},
   "outputs": [
    {
     "data": {
      "text/plain": [
       "titleType  primaryTitle           startYear\n",
       "Movie      Split                  2016         5\n",
       "TV Show    Big Brother            2001         4\n",
       "Movie      Crush                  2009         4\n",
       "           The Return             2015         4\n",
       "TV Show    X Factor               2008         4\n",
       "                                              ..\n",
       "Movie      The Wager              2004         1\n",
       "                                  2007         1\n",
       "                                  2020         1\n",
       "           The Wages of Fear      1953         1\n",
       "           !Women Art Revolution  2010         1\n",
       "Name: primaryTitle, Length: 398189, dtype: int64"
      ]
     },
     "execution_count": 33,
     "metadata": {},
     "output_type": "execute_result"
    }
   ],
   "source": [
    "check = df_imdb.groupby(['titleType', 'primaryTitle', 'startYear'])[\"primaryTitle\"].count().sort_values(ascending=False)\n",
    "check"
   ]
  },
  {
   "cell_type": "markdown",
   "metadata": {},
   "source": [
    "Yes....for some titles there are more than one rating. Let`s pick up a example and take a look with more detail"
   ]
  },
  {
   "cell_type": "code",
   "execution_count": 34,
   "metadata": {},
   "outputs": [
    {
     "data": {
      "text/html": [
       "<div>\n",
       "<style scoped>\n",
       "    .dataframe tbody tr th:only-of-type {\n",
       "        vertical-align: middle;\n",
       "    }\n",
       "\n",
       "    .dataframe tbody tr th {\n",
       "        vertical-align: top;\n",
       "    }\n",
       "\n",
       "    .dataframe thead th {\n",
       "        text-align: right;\n",
       "    }\n",
       "</style>\n",
       "<table border=\"1\" class=\"dataframe\">\n",
       "  <thead>\n",
       "    <tr style=\"text-align: right;\">\n",
       "      <th></th>\n",
       "      <th>titleType</th>\n",
       "      <th>primaryTitle</th>\n",
       "      <th>startYear</th>\n",
       "      <th>averageRating</th>\n",
       "      <th>numVotes</th>\n",
       "    </tr>\n",
       "  </thead>\n",
       "  <tbody>\n",
       "    <tr>\n",
       "      <th>175551</th>\n",
       "      <td>Movie</td>\n",
       "      <td>Big Brother</td>\n",
       "      <td>1999</td>\n",
       "      <td>7.8</td>\n",
       "      <td>18</td>\n",
       "    </tr>\n",
       "    <tr>\n",
       "      <th>249391</th>\n",
       "      <td>Movie</td>\n",
       "      <td>Big Brother</td>\n",
       "      <td>2007</td>\n",
       "      <td>3.8</td>\n",
       "      <td>761</td>\n",
       "    </tr>\n",
       "    <tr>\n",
       "      <th>1020555</th>\n",
       "      <td>Movie</td>\n",
       "      <td>Big Brother</td>\n",
       "      <td>2018</td>\n",
       "      <td>6.3</td>\n",
       "      <td>2259</td>\n",
       "    </tr>\n",
       "    <tr>\n",
       "      <th>1033675</th>\n",
       "      <td>Movie</td>\n",
       "      <td>Big Brother</td>\n",
       "      <td>2018</td>\n",
       "      <td>6.7</td>\n",
       "      <td>19</td>\n",
       "    </tr>\n",
       "    <tr>\n",
       "      <th>1087648</th>\n",
       "      <td>Movie</td>\n",
       "      <td>Big Brother</td>\n",
       "      <td>2020</td>\n",
       "      <td>3.4</td>\n",
       "      <td>764</td>\n",
       "    </tr>\n",
       "    <tr>\n",
       "      <th>538681</th>\n",
       "      <td>TV Show</td>\n",
       "      <td>Big Brother</td>\n",
       "      <td>1970</td>\n",
       "      <td>8.6</td>\n",
       "      <td>7</td>\n",
       "    </tr>\n",
       "    <tr>\n",
       "      <th>197773</th>\n",
       "      <td>TV Show</td>\n",
       "      <td>Big Brother</td>\n",
       "      <td>1999</td>\n",
       "      <td>2.9</td>\n",
       "      <td>133</td>\n",
       "    </tr>\n",
       "    <tr>\n",
       "      <th>149510</th>\n",
       "      <td>TV Show</td>\n",
       "      <td>Big Brother</td>\n",
       "      <td>2000</td>\n",
       "      <td>2.0</td>\n",
       "      <td>291</td>\n",
       "    </tr>\n",
       "    <tr>\n",
       "      <th>152222</th>\n",
       "      <td>TV Show</td>\n",
       "      <td>Big Brother</td>\n",
       "      <td>2000</td>\n",
       "      <td>5.4</td>\n",
       "      <td>9670</td>\n",
       "    </tr>\n",
       "    <tr>\n",
       "      <th>157031</th>\n",
       "      <td>TV Show</td>\n",
       "      <td>Big Brother</td>\n",
       "      <td>2000</td>\n",
       "      <td>2.7</td>\n",
       "      <td>81</td>\n",
       "    </tr>\n",
       "    <tr>\n",
       "      <th>162095</th>\n",
       "      <td>TV Show</td>\n",
       "      <td>Big Brother</td>\n",
       "      <td>2000</td>\n",
       "      <td>2.7</td>\n",
       "      <td>127</td>\n",
       "    </tr>\n",
       "    <tr>\n",
       "      <th>165731</th>\n",
       "      <td>TV Show</td>\n",
       "      <td>Big Brother</td>\n",
       "      <td>2001</td>\n",
       "      <td>1.8</td>\n",
       "      <td>40</td>\n",
       "    </tr>\n",
       "    <tr>\n",
       "      <th>169507</th>\n",
       "      <td>TV Show</td>\n",
       "      <td>Big Brother</td>\n",
       "      <td>2001</td>\n",
       "      <td>3.7</td>\n",
       "      <td>729</td>\n",
       "    </tr>\n",
       "    <tr>\n",
       "      <th>175590</th>\n",
       "      <td>TV Show</td>\n",
       "      <td>Big Brother</td>\n",
       "      <td>2001</td>\n",
       "      <td>2.3</td>\n",
       "      <td>91</td>\n",
       "    </tr>\n",
       "    <tr>\n",
       "      <th>546439</th>\n",
       "      <td>TV Show</td>\n",
       "      <td>Big Brother</td>\n",
       "      <td>2001</td>\n",
       "      <td>2.5</td>\n",
       "      <td>24</td>\n",
       "    </tr>\n",
       "    <tr>\n",
       "      <th>555218</th>\n",
       "      <td>TV Show</td>\n",
       "      <td>Big Brother</td>\n",
       "      <td>2004</td>\n",
       "      <td>3.2</td>\n",
       "      <td>57</td>\n",
       "    </tr>\n",
       "    <tr>\n",
       "      <th>587293</th>\n",
       "      <td>TV Show</td>\n",
       "      <td>Big Brother</td>\n",
       "      <td>2005</td>\n",
       "      <td>1.7</td>\n",
       "      <td>33</td>\n",
       "    </tr>\n",
       "    <tr>\n",
       "      <th>403607</th>\n",
       "      <td>TV Show</td>\n",
       "      <td>Big Brother</td>\n",
       "      <td>2006</td>\n",
       "      <td>2.2</td>\n",
       "      <td>145</td>\n",
       "    </tr>\n",
       "    <tr>\n",
       "      <th>165730</th>\n",
       "      <td>TV Show</td>\n",
       "      <td>Big Brother</td>\n",
       "      <td>2020</td>\n",
       "      <td>2.3</td>\n",
       "      <td>72</td>\n",
       "    </tr>\n",
       "  </tbody>\n",
       "</table>\n",
       "</div>"
      ],
      "text/plain": [
       "        titleType primaryTitle startYear  averageRating  numVotes\n",
       "175551      Movie  Big Brother      1999            7.8        18\n",
       "249391      Movie  Big Brother      2007            3.8       761\n",
       "1020555     Movie  Big Brother      2018            6.3      2259\n",
       "1033675     Movie  Big Brother      2018            6.7        19\n",
       "1087648     Movie  Big Brother      2020            3.4       764\n",
       "538681    TV Show  Big Brother      1970            8.6         7\n",
       "197773    TV Show  Big Brother      1999            2.9       133\n",
       "149510    TV Show  Big Brother      2000            2.0       291\n",
       "152222    TV Show  Big Brother      2000            5.4      9670\n",
       "157031    TV Show  Big Brother      2000            2.7        81\n",
       "162095    TV Show  Big Brother      2000            2.7       127\n",
       "165731    TV Show  Big Brother      2001            1.8        40\n",
       "169507    TV Show  Big Brother      2001            3.7       729\n",
       "175590    TV Show  Big Brother      2001            2.3        91\n",
       "546439    TV Show  Big Brother      2001            2.5        24\n",
       "555218    TV Show  Big Brother      2004            3.2        57\n",
       "587293    TV Show  Big Brother      2005            1.7        33\n",
       "403607    TV Show  Big Brother      2006            2.2       145\n",
       "165730    TV Show  Big Brother      2020            2.3        72"
      ]
     },
     "execution_count": 34,
     "metadata": {},
     "output_type": "execute_result"
    }
   ],
   "source": [
    "df_imdb.loc[df_imdb[\"primaryTitle\"] == 'Big Brother'].sort_values(by=['titleType', 'primaryTitle', 'startYear'])"
   ]
  },
  {
   "cell_type": "markdown",
   "metadata": {},
   "source": [
    "To solve this problem, i will consider the register with the highest number of votes"
   ]
  },
  {
   "cell_type": "code",
   "execution_count": 35,
   "metadata": {},
   "outputs": [
    {
     "data": {
      "text/html": [
       "<div>\n",
       "<style scoped>\n",
       "    .dataframe tbody tr th:only-of-type {\n",
       "        vertical-align: middle;\n",
       "    }\n",
       "\n",
       "    .dataframe tbody tr th {\n",
       "        vertical-align: top;\n",
       "    }\n",
       "\n",
       "    .dataframe thead th {\n",
       "        text-align: right;\n",
       "    }\n",
       "</style>\n",
       "<table border=\"1\" class=\"dataframe\">\n",
       "  <thead>\n",
       "    <tr style=\"text-align: right;\">\n",
       "      <th></th>\n",
       "      <th>titleType</th>\n",
       "      <th>primaryTitle</th>\n",
       "      <th>startYear</th>\n",
       "      <th>numVotes</th>\n",
       "      <th>averageRating</th>\n",
       "    </tr>\n",
       "  </thead>\n",
       "  <tbody>\n",
       "    <tr>\n",
       "      <th>0</th>\n",
       "      <td>Movie</td>\n",
       "      <td>!Women Art Revolution</td>\n",
       "      <td>2010</td>\n",
       "      <td>216</td>\n",
       "      <td>6.7</td>\n",
       "    </tr>\n",
       "    <tr>\n",
       "      <th>1</th>\n",
       "      <td>Movie</td>\n",
       "      <td>#1 Serial Killer</td>\n",
       "      <td>2013</td>\n",
       "      <td>41</td>\n",
       "      <td>5.6</td>\n",
       "    </tr>\n",
       "    <tr>\n",
       "      <th>2</th>\n",
       "      <td>Movie</td>\n",
       "      <td>#5</td>\n",
       "      <td>2013</td>\n",
       "      <td>7</td>\n",
       "      <td>6.6</td>\n",
       "    </tr>\n",
       "    <tr>\n",
       "      <th>3</th>\n",
       "      <td>Movie</td>\n",
       "      <td>#50Fathers</td>\n",
       "      <td>2015</td>\n",
       "      <td>5</td>\n",
       "      <td>4.6</td>\n",
       "    </tr>\n",
       "    <tr>\n",
       "      <th>4</th>\n",
       "      <td>Movie</td>\n",
       "      <td>#66</td>\n",
       "      <td>2015</td>\n",
       "      <td>24</td>\n",
       "      <td>5.9</td>\n",
       "    </tr>\n",
       "  </tbody>\n",
       "</table>\n",
       "</div>"
      ],
      "text/plain": [
       "  titleType           primaryTitle startYear  numVotes  averageRating\n",
       "0     Movie  !Women Art Revolution      2010       216            6.7\n",
       "1     Movie       #1 Serial Killer      2013        41            5.6\n",
       "2     Movie                     #5      2013         7            6.6\n",
       "3     Movie             #50Fathers      2015         5            4.6\n",
       "4     Movie                    #66      2015        24            5.9"
      ]
     },
     "execution_count": 35,
     "metadata": {},
     "output_type": "execute_result"
    }
   ],
   "source": [
    "df_imdb_group = df_imdb.groupby(['titleType', 'primaryTitle', 'startYear'], as_index=False)['numVotes'].max()\n",
    "df_imdb_group = df_imdb_group.merge(df_imdb, how='inner', on=['titleType', 'primaryTitle', 'startYear','numVotes'])\n",
    "df_imdb_group.head()"
   ]
  },
  {
   "cell_type": "markdown",
   "metadata": {},
   "source": [
    "Now, let`s check again to see if still exist any duplicates"
   ]
  },
  {
   "cell_type": "code",
   "execution_count": 36,
   "metadata": {},
   "outputs": [
    {
     "data": {
      "text/plain": [
       "titleType  primaryTitle                                     startYear\n",
       "Movie      Vinyl                                            2010         2\n",
       "TV Show    Greed                                            2001         2\n",
       "Movie      New World                                        2005         2\n",
       "           Bad & the Birdieman                              2016         2\n",
       "           Stuck                                            2015         2\n",
       "                                                                        ..\n",
       "           The War Starts in Cuba                           1957         1\n",
       "           The War Symphonies: Shostakovich Against Stalin  1997         1\n",
       "           The War Tapes                                    2006         1\n",
       "           The War That Never Ends                          1991         1\n",
       "           !Women Art Revolution                            2010         1\n",
       "Name: primaryTitle, Length: 398189, dtype: int64"
      ]
     },
     "execution_count": 36,
     "metadata": {},
     "output_type": "execute_result"
    }
   ],
   "source": [
    "check = df_imdb_group.groupby(['titleType',\"primaryTitle\", 'startYear'])[\"primaryTitle\"].count().sort_values(ascending=False)\n",
    "check"
   ]
  },
  {
   "cell_type": "code",
   "execution_count": 37,
   "metadata": {},
   "outputs": [
    {
     "data": {
      "text/html": [
       "<div>\n",
       "<style scoped>\n",
       "    .dataframe tbody tr th:only-of-type {\n",
       "        vertical-align: middle;\n",
       "    }\n",
       "\n",
       "    .dataframe tbody tr th {\n",
       "        vertical-align: top;\n",
       "    }\n",
       "\n",
       "    .dataframe thead th {\n",
       "        text-align: right;\n",
       "    }\n",
       "</style>\n",
       "<table border=\"1\" class=\"dataframe\">\n",
       "  <thead>\n",
       "    <tr style=\"text-align: right;\">\n",
       "      <th></th>\n",
       "      <th>titleType</th>\n",
       "      <th>primaryTitle</th>\n",
       "      <th>startYear</th>\n",
       "      <th>numVotes</th>\n",
       "      <th>averageRating</th>\n",
       "    </tr>\n",
       "  </thead>\n",
       "  <tbody>\n",
       "    <tr>\n",
       "      <th>283915</th>\n",
       "      <td>Movie</td>\n",
       "      <td>Vinyl</td>\n",
       "      <td>1965</td>\n",
       "      <td>896</td>\n",
       "      <td>4.5</td>\n",
       "    </tr>\n",
       "    <tr>\n",
       "      <th>283916</th>\n",
       "      <td>Movie</td>\n",
       "      <td>Vinyl</td>\n",
       "      <td>2000</td>\n",
       "      <td>424</td>\n",
       "      <td>7.2</td>\n",
       "    </tr>\n",
       "    <tr>\n",
       "      <th>283917</th>\n",
       "      <td>Movie</td>\n",
       "      <td>Vinyl</td>\n",
       "      <td>2010</td>\n",
       "      <td>9</td>\n",
       "      <td>6.9</td>\n",
       "    </tr>\n",
       "    <tr>\n",
       "      <th>283918</th>\n",
       "      <td>Movie</td>\n",
       "      <td>Vinyl</td>\n",
       "      <td>2010</td>\n",
       "      <td>9</td>\n",
       "      <td>7.4</td>\n",
       "    </tr>\n",
       "    <tr>\n",
       "      <th>283919</th>\n",
       "      <td>Movie</td>\n",
       "      <td>Vinyl</td>\n",
       "      <td>2012</td>\n",
       "      <td>701</td>\n",
       "      <td>6.0</td>\n",
       "    </tr>\n",
       "    <tr>\n",
       "      <th>392632</th>\n",
       "      <td>TV Show</td>\n",
       "      <td>Vinyl</td>\n",
       "      <td>2016</td>\n",
       "      <td>21574</td>\n",
       "      <td>7.8</td>\n",
       "    </tr>\n",
       "  </tbody>\n",
       "</table>\n",
       "</div>"
      ],
      "text/plain": [
       "       titleType primaryTitle startYear  numVotes  averageRating\n",
       "283915     Movie        Vinyl      1965       896            4.5\n",
       "283916     Movie        Vinyl      2000       424            7.2\n",
       "283917     Movie        Vinyl      2010         9            6.9\n",
       "283918     Movie        Vinyl      2010         9            7.4\n",
       "283919     Movie        Vinyl      2012       701            6.0\n",
       "392632   TV Show        Vinyl      2016     21574            7.8"
      ]
     },
     "execution_count": 37,
     "metadata": {},
     "output_type": "execute_result"
    }
   ],
   "source": [
    "df_imdb_group.loc[df_imdb_group[\"primaryTitle\"] == 'Vinyl']"
   ]
  },
  {
   "cell_type": "markdown",
   "metadata": {},
   "source": [
    "Yes...it still exist for cases where both records have the same number of votes. For these cases, I will take the average of ratings"
   ]
  },
  {
   "cell_type": "code",
   "execution_count": 38,
   "metadata": {},
   "outputs": [],
   "source": [
    "df_imdb_group = df_imdb_group.groupby(['titleType', 'primaryTitle', 'startYear', 'numVotes'], as_index=False)['averageRating'].mean()"
   ]
  },
  {
   "cell_type": "code",
   "execution_count": 39,
   "metadata": {},
   "outputs": [
    {
     "data": {
      "text/plain": [
       "titleType  primaryTitle             startYear\n",
       "TV Show    Üvey baba                1998         1\n",
       "Movie      La final                 2015         1\n",
       "           La fille de mes rêves    1999         1\n",
       "           La fille de son père     2001         1\n",
       "           La fille des collines    1990         1\n",
       "                                                ..\n",
       "           The War That Never Ends  1991         1\n",
       "           The War Wagon            1967         1\n",
       "           The War Within           2005         1\n",
       "                                    2014         1\n",
       "           !Women Art Revolution    2010         1\n",
       "Name: primaryTitle, Length: 398189, dtype: int64"
      ]
     },
     "execution_count": 39,
     "metadata": {},
     "output_type": "execute_result"
    }
   ],
   "source": [
    "check = df_imdb_group.groupby(['titleType',\"primaryTitle\", 'startYear'])[\"primaryTitle\"].count().sort_values(ascending=False)\n",
    "check"
   ]
  },
  {
   "cell_type": "markdown",
   "metadata": {},
   "source": [
    "Yes! We were able to eliminate all duplicates. Now we can merge with Netflix dataset."
   ]
  },
  {
   "cell_type": "markdown",
   "metadata": {},
   "source": [
    "### Merging IMDb and Netflix datasets"
   ]
  },
  {
   "cell_type": "code",
   "execution_count": 40,
   "metadata": {},
   "outputs": [
    {
     "data": {
      "text/plain": [
       "show_id                  int64\n",
       "type                    object\n",
       "title                   object\n",
       "director                object\n",
       "cast                    object\n",
       "country                 object\n",
       "date_added      datetime64[ns]\n",
       "release_year             int64\n",
       "rating                  object\n",
       "duration                object\n",
       "listed_in               object\n",
       "description             object\n",
       "dtype: object"
      ]
     },
     "execution_count": 40,
     "metadata": {},
     "output_type": "execute_result"
    }
   ],
   "source": [
    "df_netflix.dtypes"
   ]
  },
  {
   "cell_type": "code",
   "execution_count": 41,
   "metadata": {},
   "outputs": [
    {
     "data": {
      "text/plain": [
       "titleType         object\n",
       "primaryTitle      object\n",
       "startYear         object\n",
       "numVotes           int64\n",
       "averageRating    float64\n",
       "dtype: object"
      ]
     },
     "execution_count": 41,
     "metadata": {},
     "output_type": "execute_result"
    }
   ],
   "source": [
    "df_imdb_group.dtypes"
   ]
  },
  {
   "cell_type": "markdown",
   "metadata": {},
   "source": [
    "Before merge, we need to convert 'startYear' field to integer"
   ]
  },
  {
   "cell_type": "code",
   "execution_count": 42,
   "metadata": {},
   "outputs": [],
   "source": [
    "df_imdb_group['startYear'] = df_imdb_group['startYear'].replace('\\\\N', 0)\n",
    "df_imdb_group['startYear'] = df_imdb_group['startYear'].astype('int64')"
   ]
  },
  {
   "cell_type": "code",
   "execution_count": 43,
   "metadata": {},
   "outputs": [
    {
     "name": "stdout",
     "output_type": "stream",
     "text": [
      "(3658, 17)\n"
     ]
    },
    {
     "data": {
      "text/html": [
       "<div>\n",
       "<style scoped>\n",
       "    .dataframe tbody tr th:only-of-type {\n",
       "        vertical-align: middle;\n",
       "    }\n",
       "\n",
       "    .dataframe tbody tr th {\n",
       "        vertical-align: top;\n",
       "    }\n",
       "\n",
       "    .dataframe thead th {\n",
       "        text-align: right;\n",
       "    }\n",
       "</style>\n",
       "<table border=\"1\" class=\"dataframe\">\n",
       "  <thead>\n",
       "    <tr style=\"text-align: right;\">\n",
       "      <th></th>\n",
       "      <th>show_id</th>\n",
       "      <th>type</th>\n",
       "      <th>title</th>\n",
       "      <th>director</th>\n",
       "      <th>cast</th>\n",
       "      <th>country</th>\n",
       "      <th>date_added</th>\n",
       "      <th>release_year</th>\n",
       "      <th>rating</th>\n",
       "      <th>duration</th>\n",
       "      <th>listed_in</th>\n",
       "      <th>description</th>\n",
       "      <th>titleType</th>\n",
       "      <th>primaryTitle</th>\n",
       "      <th>startYear</th>\n",
       "      <th>numVotes</th>\n",
       "      <th>averageRating</th>\n",
       "    </tr>\n",
       "  </thead>\n",
       "  <tbody>\n",
       "    <tr>\n",
       "      <th>0</th>\n",
       "      <td>81145628</td>\n",
       "      <td>Movie</td>\n",
       "      <td>Norm of the North: King Sized Adventure</td>\n",
       "      <td>Richard Finn, Tim Maltby</td>\n",
       "      <td>Alan Marriott, Andrew Toth, Brian Dobson, Cole...</td>\n",
       "      <td>United States, India, South Korea, China</td>\n",
       "      <td>2019-09-09</td>\n",
       "      <td>2019</td>\n",
       "      <td>TV-PG</td>\n",
       "      <td>90 min</td>\n",
       "      <td>Children &amp; Family Movies, Comedies</td>\n",
       "      <td>Before planning an awesome wedding for his gra...</td>\n",
       "      <td>Movie</td>\n",
       "      <td>Norm of the North: King Sized Adventure</td>\n",
       "      <td>2019</td>\n",
       "      <td>307</td>\n",
       "      <td>3.3</td>\n",
       "    </tr>\n",
       "    <tr>\n",
       "      <th>1</th>\n",
       "      <td>70304989</td>\n",
       "      <td>Movie</td>\n",
       "      <td>Automata</td>\n",
       "      <td>Gabe Ibáñez</td>\n",
       "      <td>Antonio Banderas, Dylan McDermott, Melanie Gri...</td>\n",
       "      <td>Bulgaria, United States, Spain, Canada</td>\n",
       "      <td>2017-09-08</td>\n",
       "      <td>2014</td>\n",
       "      <td>R</td>\n",
       "      <td>110 min</td>\n",
       "      <td>International Movies, Sci-Fi &amp; Fantasy, Thrillers</td>\n",
       "      <td>In a dystopian future, an insurance adjuster f...</td>\n",
       "      <td>Movie</td>\n",
       "      <td>Automata</td>\n",
       "      <td>2014</td>\n",
       "      <td>54271</td>\n",
       "      <td>6.1</td>\n",
       "    </tr>\n",
       "    <tr>\n",
       "      <th>2</th>\n",
       "      <td>80117902</td>\n",
       "      <td>TV Show</td>\n",
       "      <td>Fire Chasers</td>\n",
       "      <td>Unknown</td>\n",
       "      <td>Unknown</td>\n",
       "      <td>United States</td>\n",
       "      <td>2017-09-08</td>\n",
       "      <td>2017</td>\n",
       "      <td>TV-MA</td>\n",
       "      <td>1 Season</td>\n",
       "      <td>Docuseries, Science &amp; Nature TV</td>\n",
       "      <td>As California's 2016 fire season rages, brave ...</td>\n",
       "      <td>TV Show</td>\n",
       "      <td>Fire Chasers</td>\n",
       "      <td>2017</td>\n",
       "      <td>320</td>\n",
       "      <td>6.6</td>\n",
       "    </tr>\n",
       "    <tr>\n",
       "      <th>3</th>\n",
       "      <td>70304990</td>\n",
       "      <td>Movie</td>\n",
       "      <td>Good People</td>\n",
       "      <td>Henrik Ruben Genz</td>\n",
       "      <td>James Franco, Kate Hudson, Tom Wilkinson, Omar...</td>\n",
       "      <td>United States, United Kingdom, Denmark, Sweden</td>\n",
       "      <td>2017-09-08</td>\n",
       "      <td>2014</td>\n",
       "      <td>R</td>\n",
       "      <td>90 min</td>\n",
       "      <td>Action &amp; Adventure, Thrillers</td>\n",
       "      <td>A struggling couple can't believe their luck w...</td>\n",
       "      <td>Movie</td>\n",
       "      <td>Good People</td>\n",
       "      <td>2014</td>\n",
       "      <td>15521</td>\n",
       "      <td>5.5</td>\n",
       "    </tr>\n",
       "    <tr>\n",
       "      <th>4</th>\n",
       "      <td>70299204</td>\n",
       "      <td>Movie</td>\n",
       "      <td>Kidnapping Mr. Heineken</td>\n",
       "      <td>Daniel Alfredson</td>\n",
       "      <td>Jim Sturgess, Sam Worthington, Ryan Kwanten, A...</td>\n",
       "      <td>Netherlands, Belgium, United Kingdom, United S...</td>\n",
       "      <td>2017-09-08</td>\n",
       "      <td>2015</td>\n",
       "      <td>R</td>\n",
       "      <td>95 min</td>\n",
       "      <td>Action &amp; Adventure, Dramas, International Movies</td>\n",
       "      <td>When beer magnate Alfred \"Freddy\" Heineken is ...</td>\n",
       "      <td>Movie</td>\n",
       "      <td>Kidnapping Mr. Heineken</td>\n",
       "      <td>2015</td>\n",
       "      <td>19536</td>\n",
       "      <td>6.1</td>\n",
       "    </tr>\n",
       "  </tbody>\n",
       "</table>\n",
       "</div>"
      ],
      "text/plain": [
       "    show_id     type                                    title  \\\n",
       "0  81145628    Movie  Norm of the North: King Sized Adventure   \n",
       "1  70304989    Movie                                 Automata   \n",
       "2  80117902  TV Show                             Fire Chasers   \n",
       "3  70304990    Movie                              Good People   \n",
       "4  70299204    Movie                  Kidnapping Mr. Heineken   \n",
       "\n",
       "                   director  \\\n",
       "0  Richard Finn, Tim Maltby   \n",
       "1               Gabe Ibáñez   \n",
       "2                   Unknown   \n",
       "3         Henrik Ruben Genz   \n",
       "4          Daniel Alfredson   \n",
       "\n",
       "                                                cast  \\\n",
       "0  Alan Marriott, Andrew Toth, Brian Dobson, Cole...   \n",
       "1  Antonio Banderas, Dylan McDermott, Melanie Gri...   \n",
       "2                                            Unknown   \n",
       "3  James Franco, Kate Hudson, Tom Wilkinson, Omar...   \n",
       "4  Jim Sturgess, Sam Worthington, Ryan Kwanten, A...   \n",
       "\n",
       "                                             country date_added  release_year  \\\n",
       "0           United States, India, South Korea, China 2019-09-09          2019   \n",
       "1             Bulgaria, United States, Spain, Canada 2017-09-08          2014   \n",
       "2                                      United States 2017-09-08          2017   \n",
       "3     United States, United Kingdom, Denmark, Sweden 2017-09-08          2014   \n",
       "4  Netherlands, Belgium, United Kingdom, United S... 2017-09-08          2015   \n",
       "\n",
       "  rating  duration                                          listed_in  \\\n",
       "0  TV-PG    90 min                 Children & Family Movies, Comedies   \n",
       "1      R   110 min  International Movies, Sci-Fi & Fantasy, Thrillers   \n",
       "2  TV-MA  1 Season                    Docuseries, Science & Nature TV   \n",
       "3      R    90 min                      Action & Adventure, Thrillers   \n",
       "4      R    95 min   Action & Adventure, Dramas, International Movies   \n",
       "\n",
       "                                         description titleType  \\\n",
       "0  Before planning an awesome wedding for his gra...     Movie   \n",
       "1  In a dystopian future, an insurance adjuster f...     Movie   \n",
       "2  As California's 2016 fire season rages, brave ...   TV Show   \n",
       "3  A struggling couple can't believe their luck w...     Movie   \n",
       "4  When beer magnate Alfred \"Freddy\" Heineken is ...     Movie   \n",
       "\n",
       "                              primaryTitle  startYear  numVotes  averageRating  \n",
       "0  Norm of the North: King Sized Adventure       2019       307            3.3  \n",
       "1                                 Automata       2014     54271            6.1  \n",
       "2                             Fire Chasers       2017       320            6.6  \n",
       "3                              Good People       2014     15521            5.5  \n",
       "4                  Kidnapping Mr. Heineken       2015     19536            6.1  "
      ]
     },
     "execution_count": 43,
     "metadata": {},
     "output_type": "execute_result"
    }
   ],
   "source": [
    "df = df_netflix.merge(df_imdb_group, how='inner',\n",
    "                      left_on=['type', 'title', 'release_year'],\n",
    "                      right_on=['titleType',\"primaryTitle\", 'startYear']) \n",
    "print(df.shape)\n",
    "df.head()"
   ]
  },
  {
   "cell_type": "markdown",
   "metadata": {},
   "source": [
    "Selecting fields"
   ]
  },
  {
   "cell_type": "code",
   "execution_count": 44,
   "metadata": {},
   "outputs": [
    {
     "data": {
      "text/html": [
       "<div>\n",
       "<style scoped>\n",
       "    .dataframe tbody tr th:only-of-type {\n",
       "        vertical-align: middle;\n",
       "    }\n",
       "\n",
       "    .dataframe tbody tr th {\n",
       "        vertical-align: top;\n",
       "    }\n",
       "\n",
       "    .dataframe thead th {\n",
       "        text-align: right;\n",
       "    }\n",
       "</style>\n",
       "<table border=\"1\" class=\"dataframe\">\n",
       "  <thead>\n",
       "    <tr style=\"text-align: right;\">\n",
       "      <th></th>\n",
       "      <th>show_id</th>\n",
       "      <th>type</th>\n",
       "      <th>title</th>\n",
       "      <th>country</th>\n",
       "      <th>date_added</th>\n",
       "      <th>release_year</th>\n",
       "      <th>rating</th>\n",
       "      <th>duration</th>\n",
       "      <th>listed_in</th>\n",
       "      <th>description</th>\n",
       "      <th>numVotes</th>\n",
       "      <th>averageRating</th>\n",
       "    </tr>\n",
       "  </thead>\n",
       "  <tbody>\n",
       "    <tr>\n",
       "      <th>0</th>\n",
       "      <td>81145628</td>\n",
       "      <td>Movie</td>\n",
       "      <td>Norm of the North: King Sized Adventure</td>\n",
       "      <td>United States, India, South Korea, China</td>\n",
       "      <td>2019-09-09</td>\n",
       "      <td>2019</td>\n",
       "      <td>TV-PG</td>\n",
       "      <td>90 min</td>\n",
       "      <td>Children &amp; Family Movies, Comedies</td>\n",
       "      <td>Before planning an awesome wedding for his gra...</td>\n",
       "      <td>307</td>\n",
       "      <td>3.3</td>\n",
       "    </tr>\n",
       "    <tr>\n",
       "      <th>1</th>\n",
       "      <td>70304989</td>\n",
       "      <td>Movie</td>\n",
       "      <td>Automata</td>\n",
       "      <td>Bulgaria, United States, Spain, Canada</td>\n",
       "      <td>2017-09-08</td>\n",
       "      <td>2014</td>\n",
       "      <td>R</td>\n",
       "      <td>110 min</td>\n",
       "      <td>International Movies, Sci-Fi &amp; Fantasy, Thrillers</td>\n",
       "      <td>In a dystopian future, an insurance adjuster f...</td>\n",
       "      <td>54271</td>\n",
       "      <td>6.1</td>\n",
       "    </tr>\n",
       "    <tr>\n",
       "      <th>2</th>\n",
       "      <td>80117902</td>\n",
       "      <td>TV Show</td>\n",
       "      <td>Fire Chasers</td>\n",
       "      <td>United States</td>\n",
       "      <td>2017-09-08</td>\n",
       "      <td>2017</td>\n",
       "      <td>TV-MA</td>\n",
       "      <td>1 Season</td>\n",
       "      <td>Docuseries, Science &amp; Nature TV</td>\n",
       "      <td>As California's 2016 fire season rages, brave ...</td>\n",
       "      <td>320</td>\n",
       "      <td>6.6</td>\n",
       "    </tr>\n",
       "    <tr>\n",
       "      <th>3</th>\n",
       "      <td>70304990</td>\n",
       "      <td>Movie</td>\n",
       "      <td>Good People</td>\n",
       "      <td>United States, United Kingdom, Denmark, Sweden</td>\n",
       "      <td>2017-09-08</td>\n",
       "      <td>2014</td>\n",
       "      <td>R</td>\n",
       "      <td>90 min</td>\n",
       "      <td>Action &amp; Adventure, Thrillers</td>\n",
       "      <td>A struggling couple can't believe their luck w...</td>\n",
       "      <td>15521</td>\n",
       "      <td>5.5</td>\n",
       "    </tr>\n",
       "    <tr>\n",
       "      <th>4</th>\n",
       "      <td>70299204</td>\n",
       "      <td>Movie</td>\n",
       "      <td>Kidnapping Mr. Heineken</td>\n",
       "      <td>Netherlands, Belgium, United Kingdom, United S...</td>\n",
       "      <td>2017-09-08</td>\n",
       "      <td>2015</td>\n",
       "      <td>R</td>\n",
       "      <td>95 min</td>\n",
       "      <td>Action &amp; Adventure, Dramas, International Movies</td>\n",
       "      <td>When beer magnate Alfred \"Freddy\" Heineken is ...</td>\n",
       "      <td>19536</td>\n",
       "      <td>6.1</td>\n",
       "    </tr>\n",
       "  </tbody>\n",
       "</table>\n",
       "</div>"
      ],
      "text/plain": [
       "    show_id     type                                    title  \\\n",
       "0  81145628    Movie  Norm of the North: King Sized Adventure   \n",
       "1  70304989    Movie                                 Automata   \n",
       "2  80117902  TV Show                             Fire Chasers   \n",
       "3  70304990    Movie                              Good People   \n",
       "4  70299204    Movie                  Kidnapping Mr. Heineken   \n",
       "\n",
       "                                             country date_added  release_year  \\\n",
       "0           United States, India, South Korea, China 2019-09-09          2019   \n",
       "1             Bulgaria, United States, Spain, Canada 2017-09-08          2014   \n",
       "2                                      United States 2017-09-08          2017   \n",
       "3     United States, United Kingdom, Denmark, Sweden 2017-09-08          2014   \n",
       "4  Netherlands, Belgium, United Kingdom, United S... 2017-09-08          2015   \n",
       "\n",
       "  rating  duration                                          listed_in  \\\n",
       "0  TV-PG    90 min                 Children & Family Movies, Comedies   \n",
       "1      R   110 min  International Movies, Sci-Fi & Fantasy, Thrillers   \n",
       "2  TV-MA  1 Season                    Docuseries, Science & Nature TV   \n",
       "3      R    90 min                      Action & Adventure, Thrillers   \n",
       "4      R    95 min   Action & Adventure, Dramas, International Movies   \n",
       "\n",
       "                                         description  numVotes  averageRating  \n",
       "0  Before planning an awesome wedding for his gra...       307            3.3  \n",
       "1  In a dystopian future, an insurance adjuster f...     54271            6.1  \n",
       "2  As California's 2016 fire season rages, brave ...       320            6.6  \n",
       "3  A struggling couple can't believe their luck w...     15521            5.5  \n",
       "4  When beer magnate Alfred \"Freddy\" Heineken is ...     19536            6.1  "
      ]
     },
     "execution_count": 44,
     "metadata": {},
     "output_type": "execute_result"
    }
   ],
   "source": [
    "df = df[['show_id', 'type', 'title','country', 'date_added', 'release_year', \n",
    "         'rating', 'duration', 'listed_in', 'description', 'numVotes', 'averageRating']]\n",
    "df.head()"
   ]
  },
  {
   "cell_type": "markdown",
   "metadata": {},
   "source": [
    "Adding a new column with the year extracted from the date_added variable "
   ]
  },
  {
   "cell_type": "code",
   "execution_count": 45,
   "metadata": {},
   "outputs": [],
   "source": [
    "df['year_added'] = pd.DatetimeIndex(df['date_added']).year"
   ]
  },
  {
   "cell_type": "markdown",
   "metadata": {},
   "source": [
    "Extraction just the number of duration variable and convert to integer"
   ]
  },
  {
   "cell_type": "code",
   "execution_count": 46,
   "metadata": {},
   "outputs": [],
   "source": [
    "df['duration'] = df['duration'].apply(lambda x: x.split(' ')).str[0].astype(int)"
   ]
  },
  {
   "cell_type": "code",
   "execution_count": 47,
   "metadata": {},
   "outputs": [
    {
     "data": {
      "text/html": [
       "<div>\n",
       "<style scoped>\n",
       "    .dataframe tbody tr th:only-of-type {\n",
       "        vertical-align: middle;\n",
       "    }\n",
       "\n",
       "    .dataframe tbody tr th {\n",
       "        vertical-align: top;\n",
       "    }\n",
       "\n",
       "    .dataframe thead th {\n",
       "        text-align: right;\n",
       "    }\n",
       "</style>\n",
       "<table border=\"1\" class=\"dataframe\">\n",
       "  <thead>\n",
       "    <tr style=\"text-align: right;\">\n",
       "      <th></th>\n",
       "      <th>show_id</th>\n",
       "      <th>type</th>\n",
       "      <th>title</th>\n",
       "      <th>country</th>\n",
       "      <th>date_added</th>\n",
       "      <th>release_year</th>\n",
       "      <th>rating</th>\n",
       "      <th>duration</th>\n",
       "      <th>listed_in</th>\n",
       "      <th>description</th>\n",
       "      <th>numVotes</th>\n",
       "      <th>averageRating</th>\n",
       "      <th>year_added</th>\n",
       "    </tr>\n",
       "  </thead>\n",
       "  <tbody>\n",
       "    <tr>\n",
       "      <th>0</th>\n",
       "      <td>81145628</td>\n",
       "      <td>Movie</td>\n",
       "      <td>Norm of the North: King Sized Adventure</td>\n",
       "      <td>United States, India, South Korea, China</td>\n",
       "      <td>2019-09-09</td>\n",
       "      <td>2019</td>\n",
       "      <td>TV-PG</td>\n",
       "      <td>90</td>\n",
       "      <td>Children &amp; Family Movies, Comedies</td>\n",
       "      <td>Before planning an awesome wedding for his gra...</td>\n",
       "      <td>307</td>\n",
       "      <td>3.3</td>\n",
       "      <td>2019</td>\n",
       "    </tr>\n",
       "    <tr>\n",
       "      <th>1</th>\n",
       "      <td>70304989</td>\n",
       "      <td>Movie</td>\n",
       "      <td>Automata</td>\n",
       "      <td>Bulgaria, United States, Spain, Canada</td>\n",
       "      <td>2017-09-08</td>\n",
       "      <td>2014</td>\n",
       "      <td>R</td>\n",
       "      <td>110</td>\n",
       "      <td>International Movies, Sci-Fi &amp; Fantasy, Thrillers</td>\n",
       "      <td>In a dystopian future, an insurance adjuster f...</td>\n",
       "      <td>54271</td>\n",
       "      <td>6.1</td>\n",
       "      <td>2017</td>\n",
       "    </tr>\n",
       "    <tr>\n",
       "      <th>2</th>\n",
       "      <td>80117902</td>\n",
       "      <td>TV Show</td>\n",
       "      <td>Fire Chasers</td>\n",
       "      <td>United States</td>\n",
       "      <td>2017-09-08</td>\n",
       "      <td>2017</td>\n",
       "      <td>TV-MA</td>\n",
       "      <td>1</td>\n",
       "      <td>Docuseries, Science &amp; Nature TV</td>\n",
       "      <td>As California's 2016 fire season rages, brave ...</td>\n",
       "      <td>320</td>\n",
       "      <td>6.6</td>\n",
       "      <td>2017</td>\n",
       "    </tr>\n",
       "    <tr>\n",
       "      <th>3</th>\n",
       "      <td>70304990</td>\n",
       "      <td>Movie</td>\n",
       "      <td>Good People</td>\n",
       "      <td>United States, United Kingdom, Denmark, Sweden</td>\n",
       "      <td>2017-09-08</td>\n",
       "      <td>2014</td>\n",
       "      <td>R</td>\n",
       "      <td>90</td>\n",
       "      <td>Action &amp; Adventure, Thrillers</td>\n",
       "      <td>A struggling couple can't believe their luck w...</td>\n",
       "      <td>15521</td>\n",
       "      <td>5.5</td>\n",
       "      <td>2017</td>\n",
       "    </tr>\n",
       "    <tr>\n",
       "      <th>4</th>\n",
       "      <td>70299204</td>\n",
       "      <td>Movie</td>\n",
       "      <td>Kidnapping Mr. Heineken</td>\n",
       "      <td>Netherlands, Belgium, United Kingdom, United S...</td>\n",
       "      <td>2017-09-08</td>\n",
       "      <td>2015</td>\n",
       "      <td>R</td>\n",
       "      <td>95</td>\n",
       "      <td>Action &amp; Adventure, Dramas, International Movies</td>\n",
       "      <td>When beer magnate Alfred \"Freddy\" Heineken is ...</td>\n",
       "      <td>19536</td>\n",
       "      <td>6.1</td>\n",
       "      <td>2017</td>\n",
       "    </tr>\n",
       "  </tbody>\n",
       "</table>\n",
       "</div>"
      ],
      "text/plain": [
       "    show_id     type                                    title  \\\n",
       "0  81145628    Movie  Norm of the North: King Sized Adventure   \n",
       "1  70304989    Movie                                 Automata   \n",
       "2  80117902  TV Show                             Fire Chasers   \n",
       "3  70304990    Movie                              Good People   \n",
       "4  70299204    Movie                  Kidnapping Mr. Heineken   \n",
       "\n",
       "                                             country date_added  release_year  \\\n",
       "0           United States, India, South Korea, China 2019-09-09          2019   \n",
       "1             Bulgaria, United States, Spain, Canada 2017-09-08          2014   \n",
       "2                                      United States 2017-09-08          2017   \n",
       "3     United States, United Kingdom, Denmark, Sweden 2017-09-08          2014   \n",
       "4  Netherlands, Belgium, United Kingdom, United S... 2017-09-08          2015   \n",
       "\n",
       "  rating  duration                                          listed_in  \\\n",
       "0  TV-PG        90                 Children & Family Movies, Comedies   \n",
       "1      R       110  International Movies, Sci-Fi & Fantasy, Thrillers   \n",
       "2  TV-MA         1                    Docuseries, Science & Nature TV   \n",
       "3      R        90                      Action & Adventure, Thrillers   \n",
       "4      R        95   Action & Adventure, Dramas, International Movies   \n",
       "\n",
       "                                         description  numVotes  averageRating  \\\n",
       "0  Before planning an awesome wedding for his gra...       307            3.3   \n",
       "1  In a dystopian future, an insurance adjuster f...     54271            6.1   \n",
       "2  As California's 2016 fire season rages, brave ...       320            6.6   \n",
       "3  A struggling couple can't believe their luck w...     15521            5.5   \n",
       "4  When beer magnate Alfred \"Freddy\" Heineken is ...     19536            6.1   \n",
       "\n",
       "   year_added  \n",
       "0        2019  \n",
       "1        2017  \n",
       "2        2017  \n",
       "3        2017  \n",
       "4        2017  "
      ]
     },
     "execution_count": 47,
     "metadata": {},
     "output_type": "execute_result"
    }
   ],
   "source": [
    "df.head()"
   ]
  },
  {
   "cell_type": "markdown",
   "metadata": {},
   "source": [
    "Separating into two datasets, one with movies only and another with tv shows only"
   ]
  },
  {
   "cell_type": "code",
   "execution_count": 48,
   "metadata": {},
   "outputs": [],
   "source": [
    "df_movie = df.loc[df['type']=='Movie']\n",
    "df_tv = df.loc[df['type']=='TV Show']"
   ]
  },
  {
   "cell_type": "markdown",
   "metadata": {},
   "source": [
    "Checking dataframes shapes"
   ]
  },
  {
   "cell_type": "code",
   "execution_count": 49,
   "metadata": {},
   "outputs": [
    {
     "name": "stdout",
     "output_type": "stream",
     "text": [
      "(3658, 13)\n",
      "(2821, 13)\n",
      "(837, 13)\n"
     ]
    }
   ],
   "source": [
    "print(df.shape)\n",
    "print(df_movie.shape)\n",
    "print(df_tv.shape)"
   ]
  },
  {
   "cell_type": "code",
   "execution_count": 50,
   "metadata": {},
   "outputs": [
    {
     "data": {
      "text/plain": [
       "2574"
      ]
     },
     "execution_count": 50,
     "metadata": {},
     "output_type": "execute_result"
    }
   ],
   "source": [
    "df_netflix.shape[0] - df.shape[0]"
   ]
  },
  {
   "cell_type": "markdown",
   "metadata": {},
   "source": [
    "There are 2.574 Netflix titles that were not found in the IMDb datasets.  \n",
    "An improvement suggestion would be to standardize the title variable in both datasets before the merge. Perhaps that number may decrease."
   ]
  },
  {
   "cell_type": "markdown",
   "metadata": {},
   "source": [
    "## Exploratory Data Analysis"
   ]
  },
  {
   "cell_type": "markdown",
   "metadata": {},
   "source": [
    "### Duration variable distribuition per type "
   ]
  },
  {
   "cell_type": "markdown",
   "metadata": {},
   "source": [
    "### Analysis of numVotes and averageRating variables distribution"
   ]
  },
  {
   "cell_type": "code",
   "execution_count": 51,
   "metadata": {},
   "outputs": [
    {
     "data": {
      "image/png": "[encoded data removed]",
      "text/plain": [
       "<Figure size 1152x576 with 2 Axes>"
      ]
     },
     "metadata": {
      "needs_background": "light"
     },
     "output_type": "display_data"
    }
   ],
   "source": [
    "fig, ax =plt.subplots(1,2)\n",
    "sns.distplot(df.numVotes, ax=ax[0], color='slategrey')\n",
    "ax[0].set_title('Distribution of numVotes variable', fontsize='16')\n",
    "\n",
    "sns.distplot(df.averageRating, ax=ax[1], color='slategrey')\n",
    "ax[1].set_title('Distribution of averageRating variable', fontsize='16')\n",
    "plt.show()"
   ]
  },
  {
   "cell_type": "code",
   "execution_count": 52,
   "metadata": {},
   "outputs": [
    {
     "data": {
      "text/html": [
       "<div>\n",
       "<style scoped>\n",
       "    .dataframe tbody tr th:only-of-type {\n",
       "        vertical-align: middle;\n",
       "    }\n",
       "\n",
       "    .dataframe tbody tr th {\n",
       "        vertical-align: top;\n",
       "    }\n",
       "\n",
       "    .dataframe thead th {\n",
       "        text-align: right;\n",
       "    }\n",
       "</style>\n",
       "<table border=\"1\" class=\"dataframe\">\n",
       "  <thead>\n",
       "    <tr style=\"text-align: right;\">\n",
       "      <th></th>\n",
       "      <th>numVotes</th>\n",
       "      <th>averageRating</th>\n",
       "    </tr>\n",
       "  </thead>\n",
       "  <tbody>\n",
       "    <tr>\n",
       "      <th>count</th>\n",
       "      <td>3.658000e+03</td>\n",
       "      <td>3658.000000</td>\n",
       "    </tr>\n",
       "    <tr>\n",
       "      <th>mean</th>\n",
       "      <td>3.137069e+04</td>\n",
       "      <td>6.409240</td>\n",
       "    </tr>\n",
       "    <tr>\n",
       "      <th>std</th>\n",
       "      <td>1.112160e+05</td>\n",
       "      <td>1.203648</td>\n",
       "    </tr>\n",
       "    <tr>\n",
       "      <th>min</th>\n",
       "      <td>5.000000e+00</td>\n",
       "      <td>1.600000</td>\n",
       "    </tr>\n",
       "    <tr>\n",
       "      <th>25%</th>\n",
       "      <td>4.060000e+02</td>\n",
       "      <td>5.700000</td>\n",
       "    </tr>\n",
       "    <tr>\n",
       "      <th>50%</th>\n",
       "      <td>2.027000e+03</td>\n",
       "      <td>6.500000</td>\n",
       "    </tr>\n",
       "    <tr>\n",
       "      <th>75%</th>\n",
       "      <td>1.159200e+04</td>\n",
       "      <td>7.300000</td>\n",
       "    </tr>\n",
       "    <tr>\n",
       "      <th>max</th>\n",
       "      <td>2.055297e+06</td>\n",
       "      <td>9.500000</td>\n",
       "    </tr>\n",
       "  </tbody>\n",
       "</table>\n",
       "</div>"
      ],
      "text/plain": [
       "           numVotes  averageRating\n",
       "count  3.658000e+03    3658.000000\n",
       "mean   3.137069e+04       6.409240\n",
       "std    1.112160e+05       1.203648\n",
       "min    5.000000e+00       1.600000\n",
       "25%    4.060000e+02       5.700000\n",
       "50%    2.027000e+03       6.500000\n",
       "75%    1.159200e+04       7.300000\n",
       "max    2.055297e+06       9.500000"
      ]
     },
     "execution_count": 52,
     "metadata": {},
     "output_type": "execute_result"
    }
   ],
   "source": [
    "df[['numVotes', 'averageRating']].describe()"
   ]
  },
  {
   "cell_type": "markdown",
   "metadata": {},
   "source": [
    "We can see that at least 75% of titles had less than 15.000 ratings and the avarage rating is round 6.5"
   ]
  },
  {
   "cell_type": "markdown",
   "metadata": {},
   "source": [
    "The same distributions by type, disregarding outliers"
   ]
  },
  {
   "cell_type": "code",
   "execution_count": 53,
   "metadata": {},
   "outputs": [
    {
     "data": {
      "image/png": "[encoded data removed]",
      "text/plain": [
       "<Figure size 1152x576 with 2 Axes>"
      ]
     },
     "metadata": {
      "needs_background": "light"
     },
     "output_type": "display_data"
    }
   ],
   "source": [
    "fig, ax =plt.subplots(1,2)\n",
    "sns.boxplot(x='type', y='numVotes', hue='type', palette=[\"red\", \"grey\"], data=df, ax=ax[0], showfliers = False)\n",
    "#ax[0].set_ylim([0, 10000]) \n",
    "ax[0].set_title('Distribution of numVotes per type', fontsize='16')\n",
    "sns.boxplot(x='type', y='averageRating', hue='type', palette=[\"red\", \"grey\"], data=df, ax=ax[1], showfliers = False)\n",
    "ax[1].set_title('Distribution of averageRating per type', fontsize='16')\n",
    "plt.show()"
   ]
  },
  {
   "cell_type": "code",
   "execution_count": 54,
   "metadata": {},
   "outputs": [
    {
     "data": {
      "text/html": [
       "<div>\n",
       "<style scoped>\n",
       "    .dataframe tbody tr th:only-of-type {\n",
       "        vertical-align: middle;\n",
       "    }\n",
       "\n",
       "    .dataframe tbody tr th {\n",
       "        vertical-align: top;\n",
       "    }\n",
       "\n",
       "    .dataframe thead th {\n",
       "        text-align: right;\n",
       "    }\n",
       "</style>\n",
       "<table border=\"1\" class=\"dataframe\">\n",
       "  <thead>\n",
       "    <tr style=\"text-align: right;\">\n",
       "      <th></th>\n",
       "      <th>show_id</th>\n",
       "      <th>release_year</th>\n",
       "      <th>duration</th>\n",
       "      <th>numVotes</th>\n",
       "      <th>averageRating</th>\n",
       "      <th>year_added</th>\n",
       "    </tr>\n",
       "  </thead>\n",
       "  <tbody>\n",
       "    <tr>\n",
       "      <th>count</th>\n",
       "      <td>2.821000e+03</td>\n",
       "      <td>2821.000000</td>\n",
       "      <td>2821.000000</td>\n",
       "      <td>2.821000e+03</td>\n",
       "      <td>2821.000000</td>\n",
       "      <td>2821.000000</td>\n",
       "    </tr>\n",
       "    <tr>\n",
       "      <th>mean</th>\n",
       "      <td>7.465375e+07</td>\n",
       "      <td>2011.992201</td>\n",
       "      <td>105.819568</td>\n",
       "      <td>3.894688e+04</td>\n",
       "      <td>6.209571</td>\n",
       "      <td>2018.065225</td>\n",
       "    </tr>\n",
       "    <tr>\n",
       "      <th>std</th>\n",
       "      <td>1.439357e+07</td>\n",
       "      <td>9.704642</td>\n",
       "      <td>23.155282</td>\n",
       "      <td>1.251668e+05</td>\n",
       "      <td>1.162786</td>\n",
       "      <td>1.165095</td>\n",
       "    </tr>\n",
       "    <tr>\n",
       "      <th>min</th>\n",
       "      <td>2.698800e+05</td>\n",
       "      <td>1944.000000</td>\n",
       "      <td>23.000000</td>\n",
       "      <td>6.000000e+00</td>\n",
       "      <td>1.600000</td>\n",
       "      <td>2009.000000</td>\n",
       "    </tr>\n",
       "    <tr>\n",
       "      <th>25%</th>\n",
       "      <td>7.026261e+07</td>\n",
       "      <td>2011.000000</td>\n",
       "      <td>91.000000</td>\n",
       "      <td>5.560000e+02</td>\n",
       "      <td>5.500000</td>\n",
       "      <td>2017.000000</td>\n",
       "    </tr>\n",
       "    <tr>\n",
       "      <th>50%</th>\n",
       "      <td>8.014222e+07</td>\n",
       "      <td>2016.000000</td>\n",
       "      <td>101.000000</td>\n",
       "      <td>2.770000e+03</td>\n",
       "      <td>6.300000</td>\n",
       "      <td>2018.000000</td>\n",
       "    </tr>\n",
       "    <tr>\n",
       "      <th>75%</th>\n",
       "      <td>8.023840e+07</td>\n",
       "      <td>2017.000000</td>\n",
       "      <td>119.000000</td>\n",
       "      <td>1.839300e+04</td>\n",
       "      <td>7.100000</td>\n",
       "      <td>2019.000000</td>\n",
       "    </tr>\n",
       "    <tr>\n",
       "      <th>max</th>\n",
       "      <td>8.123573e+07</td>\n",
       "      <td>2020.000000</td>\n",
       "      <td>312.000000</td>\n",
       "      <td>2.055297e+06</td>\n",
       "      <td>8.900000</td>\n",
       "      <td>2020.000000</td>\n",
       "    </tr>\n",
       "  </tbody>\n",
       "</table>\n",
       "</div>"
      ],
      "text/plain": [
       "            show_id  release_year     duration      numVotes  averageRating  \\\n",
       "count  2.821000e+03   2821.000000  2821.000000  2.821000e+03    2821.000000   \n",
       "mean   7.465375e+07   2011.992201   105.819568  3.894688e+04       6.209571   \n",
       "std    1.439357e+07      9.704642    23.155282  1.251668e+05       1.162786   \n",
       "min    2.698800e+05   1944.000000    23.000000  6.000000e+00       1.600000   \n",
       "25%    7.026261e+07   2011.000000    91.000000  5.560000e+02       5.500000   \n",
       "50%    8.014222e+07   2016.000000   101.000000  2.770000e+03       6.300000   \n",
       "75%    8.023840e+07   2017.000000   119.000000  1.839300e+04       7.100000   \n",
       "max    8.123573e+07   2020.000000   312.000000  2.055297e+06       8.900000   \n",
       "\n",
       "        year_added  \n",
       "count  2821.000000  \n",
       "mean   2018.065225  \n",
       "std       1.165095  \n",
       "min    2009.000000  \n",
       "25%    2017.000000  \n",
       "50%    2018.000000  \n",
       "75%    2019.000000  \n",
       "max    2020.000000  "
      ]
     },
     "execution_count": 54,
     "metadata": {},
     "output_type": "execute_result"
    }
   ],
   "source": [
    "df_movie.describe()"
   ]
  },
  {
   "cell_type": "code",
   "execution_count": 55,
   "metadata": {},
   "outputs": [
    {
     "data": {
      "text/html": [
       "<div>\n",
       "<style scoped>\n",
       "    .dataframe tbody tr th:only-of-type {\n",
       "        vertical-align: middle;\n",
       "    }\n",
       "\n",
       "    .dataframe tbody tr th {\n",
       "        vertical-align: top;\n",
       "    }\n",
       "\n",
       "    .dataframe thead th {\n",
       "        text-align: right;\n",
       "    }\n",
       "</style>\n",
       "<table border=\"1\" class=\"dataframe\">\n",
       "  <thead>\n",
       "    <tr style=\"text-align: right;\">\n",
       "      <th></th>\n",
       "      <th>show_id</th>\n",
       "      <th>release_year</th>\n",
       "      <th>duration</th>\n",
       "      <th>numVotes</th>\n",
       "      <th>averageRating</th>\n",
       "      <th>year_added</th>\n",
       "    </tr>\n",
       "  </thead>\n",
       "  <tbody>\n",
       "    <tr>\n",
       "      <th>count</th>\n",
       "      <td>8.370000e+02</td>\n",
       "      <td>837.000000</td>\n",
       "      <td>837.000000</td>\n",
       "      <td>837.000000</td>\n",
       "      <td>837.000000</td>\n",
       "      <td>837.000000</td>\n",
       "    </tr>\n",
       "    <tr>\n",
       "      <th>mean</th>\n",
       "      <td>7.974877e+07</td>\n",
       "      <td>2016.043011</td>\n",
       "      <td>1.084827</td>\n",
       "      <td>5836.121864</td>\n",
       "      <td>7.082198</td>\n",
       "      <td>2018.040621</td>\n",
       "    </tr>\n",
       "    <tr>\n",
       "      <th>std</th>\n",
       "      <td>2.579301e+06</td>\n",
       "      <td>4.619033</td>\n",
       "      <td>0.502360</td>\n",
       "      <td>20331.420657</td>\n",
       "      <td>1.090293</td>\n",
       "      <td>1.126358</td>\n",
       "    </tr>\n",
       "    <tr>\n",
       "      <th>min</th>\n",
       "      <td>7.014244e+07</td>\n",
       "      <td>1972.000000</td>\n",
       "      <td>1.000000</td>\n",
       "      <td>5.000000</td>\n",
       "      <td>1.900000</td>\n",
       "      <td>2015.000000</td>\n",
       "    </tr>\n",
       "    <tr>\n",
       "      <th>25%</th>\n",
       "      <td>8.012834e+07</td>\n",
       "      <td>2015.000000</td>\n",
       "      <td>1.000000</td>\n",
       "      <td>146.000000</td>\n",
       "      <td>6.500000</td>\n",
       "      <td>2017.000000</td>\n",
       "    </tr>\n",
       "    <tr>\n",
       "      <th>50%</th>\n",
       "      <td>8.020215e+07</td>\n",
       "      <td>2018.000000</td>\n",
       "      <td>1.000000</td>\n",
       "      <td>805.000000</td>\n",
       "      <td>7.200000</td>\n",
       "      <td>2018.000000</td>\n",
       "    </tr>\n",
       "    <tr>\n",
       "      <th>75%</th>\n",
       "      <td>8.099306e+07</td>\n",
       "      <td>2019.000000</td>\n",
       "      <td>1.000000</td>\n",
       "      <td>3065.000000</td>\n",
       "      <td>7.800000</td>\n",
       "      <td>2019.000000</td>\n",
       "    </tr>\n",
       "    <tr>\n",
       "      <th>max</th>\n",
       "      <td>8.123560e+07</td>\n",
       "      <td>2020.000000</td>\n",
       "      <td>12.000000</td>\n",
       "      <td>292016.000000</td>\n",
       "      <td>9.500000</td>\n",
       "      <td>2020.000000</td>\n",
       "    </tr>\n",
       "  </tbody>\n",
       "</table>\n",
       "</div>"
      ],
      "text/plain": [
       "            show_id  release_year    duration       numVotes  averageRating  \\\n",
       "count  8.370000e+02    837.000000  837.000000     837.000000     837.000000   \n",
       "mean   7.974877e+07   2016.043011    1.084827    5836.121864       7.082198   \n",
       "std    2.579301e+06      4.619033    0.502360   20331.420657       1.090293   \n",
       "min    7.014244e+07   1972.000000    1.000000       5.000000       1.900000   \n",
       "25%    8.012834e+07   2015.000000    1.000000     146.000000       6.500000   \n",
       "50%    8.020215e+07   2018.000000    1.000000     805.000000       7.200000   \n",
       "75%    8.099306e+07   2019.000000    1.000000    3065.000000       7.800000   \n",
       "max    8.123560e+07   2020.000000   12.000000  292016.000000       9.500000   \n",
       "\n",
       "        year_added  \n",
       "count   837.000000  \n",
       "mean   2018.040621  \n",
       "std       1.126358  \n",
       "min    2015.000000  \n",
       "25%    2017.000000  \n",
       "50%    2018.000000  \n",
       "75%    2019.000000  \n",
       "max    2020.000000  "
      ]
     },
     "execution_count": 55,
     "metadata": {},
     "output_type": "execute_result"
    }
   ],
   "source": [
    "df_tv.describe()"
   ]
  },
  {
   "cell_type": "markdown",
   "metadata": {},
   "source": [
    "TV Shows had a lower number of ratings, but on average it were better rated than Movies"
   ]
  },
  {
   "cell_type": "markdown",
   "metadata": {},
   "source": [
    "For the next analyzes, I will consider only movies and tv shows that had at least 2.000 and 500 ratings, respectively"
   ]
  },
  {
   "cell_type": "code",
   "execution_count": 56,
   "metadata": {},
   "outputs": [],
   "source": [
    "df_movie = df.loc[ (df['numVotes']>=2000) & (df['type']=='Movie')].sort_values(by=['averageRating'], ascending=[False]).reset_index()\n",
    "df_tv = df.loc[ (df['numVotes']>=800) & (df['type']=='TV Show')].sort_values(by=['averageRating'], ascending=[False]).reset_index()"
   ]
  },
  {
   "cell_type": "code",
   "execution_count": 57,
   "metadata": {},
   "outputs": [
    {
     "name": "stdout",
     "output_type": "stream",
     "text": [
      "(1556, 14)\n",
      "(419, 14)\n"
     ]
    }
   ],
   "source": [
    "print(df_movie.shape)\n",
    "print(df_tv.shape)"
   ]
  },
  {
   "cell_type": "markdown",
   "metadata": {},
   "source": [
    "I will consider only the 100 best rated Movies and TV Shows"
   ]
  },
  {
   "cell_type": "code",
   "execution_count": 58,
   "metadata": {},
   "outputs": [],
   "source": [
    "df_top100mv = df_movie[0:100]\n",
    "df_top100tv = df_tv[0:100]"
   ]
  },
  {
   "cell_type": "markdown",
   "metadata": {},
   "source": [
    "### Which countries have the greatest amount of top rated Movies and TV Shows?    "
   ]
  },
  {
   "cell_type": "markdown",
   "metadata": {},
   "source": [
    "Some titles have more than one country, for this reason, we will split the country variable"
   ]
  },
  {
   "cell_type": "code",
   "execution_count": 59,
   "metadata": {},
   "outputs": [],
   "source": [
    "from itertools import chain\n",
    "import numpy as np\n",
    "\n",
    "# return list from series of comma-separated strings\n",
    "def chainer(s):\n",
    "    return list(chain.from_iterable(s.str.split(',')))"
   ]
  },
  {
   "cell_type": "code",
   "execution_count": 60,
   "metadata": {},
   "outputs": [
    {
     "name": "stdout",
     "output_type": "stream",
     "text": [
      "       type                                          title         country\n",
      "0     Movie  The Lord of the Rings: The Return of the King     New Zealand\n",
      "0     Movie  The Lord of the Rings: The Return of the King   United States\n",
      "1     Movie                               Schindler's List   United States\n",
      "2     Movie                                   Pulp Fiction   United States\n",
      "3     Movie                                      Inception   United States\n",
      "..      ...                                            ...             ...\n",
      "95  TV Show                                     Reply 1997     South Korea\n",
      "96  TV Show                                       Lovesick         Unknown\n",
      "97  TV Show                          Sunderland 'Til I Die  United Kingdom\n",
      "98  TV Show                          Something in the Rain     South Korea\n",
      "99  TV Show                                           Dogs   United States\n",
      "\n",
      "[264 rows x 3 columns]\n"
     ]
    }
   ],
   "source": [
    "# concatenate movies and tv shows dataframes\n",
    "df_top100 = pd.concat([df_top100mv, df_top100tv])\n",
    "\n",
    "# calculate lengths of splits\n",
    "lens =df_top100['country'].str.split(',').map(len)\n",
    "\n",
    "# create new dataframe, repeating or chaining as appropriate\n",
    "df_top100_country = pd.DataFrame({'type': np.repeat(df_top100['type'], lens),\n",
    "                                    'title': np.repeat(df_top100['title'], lens),\n",
    "                                    'country': chainer(df_top100['country']),\n",
    "                                   })\n",
    "df_top100_country['country']=df_top100_country['country'].str.strip()\n",
    "\n",
    "print(df_top100_country)"
   ]
  },
  {
   "cell_type": "code",
   "execution_count": 61,
   "metadata": {},
   "outputs": [],
   "source": [
    "# Separating dataframes\n",
    "df_top100mv_country = df_top100_country.loc[df_top100_country['type']=='Movie']\n",
    "df_top100tv_country  = df_top100_country.loc[df_top100_country['type']=='TV Show']"
   ]
  },
  {
   "cell_type": "code",
   "execution_count": 62,
   "metadata": {},
   "outputs": [
    {
     "data": {
      "image/png": "[encoded data removed]",
      "text/plain": [
       "<Figure size 1152x576 with 2 Axes>"
      ]
     },
     "metadata": {
      "needs_background": "light"
     },
     "output_type": "display_data"
    }
   ],
   "source": [
    "fig, ax =plt.subplots(1,2)\n",
    "\n",
    "sns.countplot(x='country', color='red', data=df_top100mv_country, \n",
    "              order = df_top100mv_country['country'].value_counts().index, ax=ax[0])\n",
    "ax[0].set_title('Amount of Top 100 Movies per country', fontsize='16')\n",
    "ax[0].set_xlabel('')\n",
    "ax[0].set_ylabel('')\n",
    "ax[0].set_ylim([0,60])\n",
    "ax[0].set_xticklabels(labels=df_top100mv_country['country'].value_counts().index ,rotation=90, ha='center')\n",
    "\n",
    "sns.countplot(x='country', color='grey', data=df_top100tv_country, \n",
    "              order = df_top100tv_country['country'].value_counts().index, ax=ax[1])\n",
    "ax[1].set_title('Amount of Top 100 TV Shows per country', fontsize='16')\n",
    "ax[1].set_xlabel('')\n",
    "ax[1].set_ylabel('')\n",
    "ax[1].set_ylim([0,60])\n",
    "ax[1].set_xticklabels(labels=df_top100tv_country['country'].value_counts().index ,rotation=90, ha='center')\n",
    "plt.show()"
   ]
  },
  {
   "cell_type": "markdown",
   "metadata": {},
   "source": [
    "### Which genres have the greatest amount of top rated Movies and TV Shows?    "
   ]
  },
  {
   "cell_type": "markdown",
   "metadata": {},
   "source": [
    "Some titles have more than one genre, for this reason, we will split the genre variable"
   ]
  },
  {
   "cell_type": "code",
   "execution_count": 63,
   "metadata": {},
   "outputs": [
    {
     "name": "stdout",
     "output_type": "stream",
     "text": [
      "       type                                          title  \\\n",
      "0     Movie  The Lord of the Rings: The Return of the King   \n",
      "0     Movie  The Lord of the Rings: The Return of the King   \n",
      "1     Movie                               Schindler's List   \n",
      "1     Movie                               Schindler's List   \n",
      "2     Movie                                   Pulp Fiction   \n",
      "..      ...                                            ...   \n",
      "97  TV Show                          Sunderland 'Til I Die   \n",
      "98  TV Show                          Something in the Rain   \n",
      "98  TV Show                          Something in the Rain   \n",
      "98  TV Show                          Something in the Rain   \n",
      "99  TV Show                                           Dogs   \n",
      "\n",
      "                 listed_in  \n",
      "0       Action & Adventure  \n",
      "0         Sci-Fi & Fantasy  \n",
      "1           Classic Movies  \n",
      "1                   Dramas  \n",
      "2           Classic Movies  \n",
      "..                     ...  \n",
      "97  International TV Shows  \n",
      "98  International TV Shows  \n",
      "98         Korean TV Shows  \n",
      "98       Romantic TV Shows  \n",
      "99              Docuseries  \n",
      "\n",
      "[483 rows x 3 columns]\n"
     ]
    }
   ],
   "source": [
    "# calculate lengths of splits\n",
    "lens =df_top100['listed_in'].str.split(',').map(len)\n",
    "\n",
    "# create new dataframe, repeating or chaining as appropriate\n",
    "df_top100_genre = pd.DataFrame({'type': np.repeat(df_top100['type'], lens),\n",
    "                                'title': np.repeat(df_top100['title'], lens),\n",
    "                                'listed_in': chainer(df_top100['listed_in'])})\n",
    "df_top100_genre['listed_in']=df_top100_genre['listed_in'].str.strip()\n",
    "\n",
    "print(df_top100_genre)"
   ]
  },
  {
   "cell_type": "code",
   "execution_count": 64,
   "metadata": {},
   "outputs": [],
   "source": [
    "# Separating dataframes\n",
    "df_top100mv_genre = df_top100_genre.loc[df_top100_genre['type']=='Movie']\n",
    "df_top100tv_genre  = df_top100_genre.loc[df_top100_genre['type']=='TV Show']"
   ]
  },
  {
   "cell_type": "code",
   "execution_count": 65,
   "metadata": {},
   "outputs": [
    {
     "data": {
      "image/png": "[encoded data removed]",
      "text/plain": [
       "<Figure size 1152x576 with 2 Axes>"
      ]
     },
     "metadata": {
      "needs_background": "light"
     },
     "output_type": "display_data"
    }
   ],
   "source": [
    "fig, ax =plt.subplots(1,2)\n",
    "\n",
    "sns.countplot(x='listed_in', color='red', data=df_top100mv_genre, \n",
    "              order = df_top100mv_genre['listed_in'].value_counts().index, ax=ax[0])\n",
    "ax[0].set_title('Amount of Top 100 Movies per genre', fontsize='16')\n",
    "ax[0].set_xlabel('')\n",
    "ax[0].set_ylabel('')\n",
    "ax[0].set_ylim([0,60])\n",
    "ax[0].set_xticklabels(labels=df_top100mv_genre['listed_in'].value_counts().index ,rotation=90, ha='right')\n",
    "\n",
    "sns.countplot(x='listed_in', color='grey', data=df_top100tv_genre, \n",
    "              order = df_top100tv_genre['listed_in'].value_counts().index, ax=ax[1])\n",
    "ax[1].set_title('Amount of Top 100 TV Shows per genre', fontsize='16')\n",
    "ax[1].set_xlabel('')\n",
    "ax[1].set_ylabel('')\n",
    "ax[1].set_ylim([0,60])\n",
    "ax[1].set_xticklabels(labels=df_top100tv_genre['listed_in'].value_counts().index ,rotation=90, ha='right')\n",
    "plt.show()"
   ]
  },
  {
   "cell_type": "markdown",
   "metadata": {},
   "source": [
    "### Top 10 most popular Movies"
   ]
  },
  {
   "cell_type": "code",
   "execution_count": 66,
   "metadata": {},
   "outputs": [
    {
     "data": {
      "text/html": [
       "<div>\n",
       "<style scoped>\n",
       "    .dataframe tbody tr th:only-of-type {\n",
       "        vertical-align: middle;\n",
       "    }\n",
       "\n",
       "    .dataframe tbody tr th {\n",
       "        vertical-align: top;\n",
       "    }\n",
       "\n",
       "    .dataframe thead th {\n",
       "        text-align: right;\n",
       "    }\n",
       "</style>\n",
       "<table border=\"1\" class=\"dataframe\">\n",
       "  <thead>\n",
       "    <tr style=\"text-align: right;\">\n",
       "      <th></th>\n",
       "      <th>title</th>\n",
       "      <th>country</th>\n",
       "      <th>listed_in</th>\n",
       "    </tr>\n",
       "  </thead>\n",
       "  <tbody>\n",
       "    <tr>\n",
       "      <th>0</th>\n",
       "      <td>The Lord of the Rings: The Return of the King</td>\n",
       "      <td>New Zealand, United States</td>\n",
       "      <td>Action &amp; Adventure, Sci-Fi &amp; Fantasy</td>\n",
       "    </tr>\n",
       "    <tr>\n",
       "      <th>1</th>\n",
       "      <td>Schindler's List</td>\n",
       "      <td>United States</td>\n",
       "      <td>Classic Movies, Dramas</td>\n",
       "    </tr>\n",
       "    <tr>\n",
       "      <th>2</th>\n",
       "      <td>Pulp Fiction</td>\n",
       "      <td>United States</td>\n",
       "      <td>Classic Movies, Cult Movies, Dramas</td>\n",
       "    </tr>\n",
       "    <tr>\n",
       "      <th>3</th>\n",
       "      <td>Inception</td>\n",
       "      <td>United States, United Kingdom</td>\n",
       "      <td>Action &amp; Adventure, Sci-Fi &amp; Fantasy, Thrillers</td>\n",
       "    </tr>\n",
       "    <tr>\n",
       "      <th>4</th>\n",
       "      <td>The Matrix</td>\n",
       "      <td>United States</td>\n",
       "      <td>Action &amp; Adventure, Sci-Fi &amp; Fantasy</td>\n",
       "    </tr>\n",
       "    <tr>\n",
       "      <th>5</th>\n",
       "      <td>The Lord of the Rings: The Two Towers</td>\n",
       "      <td>New Zealand, United States</td>\n",
       "      <td>Action &amp; Adventure, Sci-Fi &amp; Fantasy</td>\n",
       "    </tr>\n",
       "    <tr>\n",
       "      <th>6</th>\n",
       "      <td>City of God</td>\n",
       "      <td>Brazil, France, Germany</td>\n",
       "      <td>Dramas, Independent Movies, International Movies</td>\n",
       "    </tr>\n",
       "    <tr>\n",
       "      <th>7</th>\n",
       "      <td>Be Here Now</td>\n",
       "      <td>United States, Australia</td>\n",
       "      <td>Documentaries</td>\n",
       "    </tr>\n",
       "    <tr>\n",
       "      <th>8</th>\n",
       "      <td>Senna</td>\n",
       "      <td>United Kingdom, France, United States</td>\n",
       "      <td>Documentaries, International Movies, Sports Mo...</td>\n",
       "    </tr>\n",
       "    <tr>\n",
       "      <th>9</th>\n",
       "      <td>American History X</td>\n",
       "      <td>United States</td>\n",
       "      <td>Dramas</td>\n",
       "    </tr>\n",
       "  </tbody>\n",
       "</table>\n",
       "</div>"
      ],
      "text/plain": [
       "                                           title  \\\n",
       "0  The Lord of the Rings: The Return of the King   \n",
       "1                               Schindler's List   \n",
       "2                                   Pulp Fiction   \n",
       "3                                      Inception   \n",
       "4                                     The Matrix   \n",
       "5          The Lord of the Rings: The Two Towers   \n",
       "6                                    City of God   \n",
       "7                                    Be Here Now   \n",
       "8                                          Senna   \n",
       "9                             American History X   \n",
       "\n",
       "                                 country  \\\n",
       "0             New Zealand, United States   \n",
       "1                          United States   \n",
       "2                          United States   \n",
       "3          United States, United Kingdom   \n",
       "4                          United States   \n",
       "5             New Zealand, United States   \n",
       "6                Brazil, France, Germany   \n",
       "7               United States, Australia   \n",
       "8  United Kingdom, France, United States   \n",
       "9                          United States   \n",
       "\n",
       "                                           listed_in  \n",
       "0               Action & Adventure, Sci-Fi & Fantasy  \n",
       "1                             Classic Movies, Dramas  \n",
       "2                Classic Movies, Cult Movies, Dramas  \n",
       "3    Action & Adventure, Sci-Fi & Fantasy, Thrillers  \n",
       "4               Action & Adventure, Sci-Fi & Fantasy  \n",
       "5               Action & Adventure, Sci-Fi & Fantasy  \n",
       "6   Dramas, Independent Movies, International Movies  \n",
       "7                                      Documentaries  \n",
       "8  Documentaries, International Movies, Sports Mo...  \n",
       "9                                             Dramas  "
      ]
     },
     "execution_count": 66,
     "metadata": {},
     "output_type": "execute_result"
    }
   ],
   "source": [
    "df_movie[['title', 'country','listed_in']][0:10]"
   ]
  },
  {
   "cell_type": "markdown",
   "metadata": {},
   "source": [
    "### Top 3 most popular Movies per year of release"
   ]
  },
  {
   "cell_type": "code",
   "execution_count": 67,
   "metadata": {},
   "outputs": [
    {
     "name": "stdout",
     "output_type": "stream",
     "text": [
      "                                                             averageRating\n",
      "release_year title                                                        \n",
      "2020         A Fall from Grace                                         5.9\n",
      "             Ghost Stories                                             4.3\n",
      "2019         Super Deluxe                                              8.3\n",
      "             Article 15                                                8.2\n",
      "             Klaus                                                     8.2\n",
      "2018         Avengers: Infinity War                                    8.4\n",
      "             Qismat                                                    8.4\n",
      "             Spider-Man: Into the Spider-Verse                         8.4\n",
      "2017         Cuba and the Cameraman                                    8.3\n",
      "             LA 92                                                     8.2\n",
      "             Chasing Coral                                             8.1\n",
      "2016         Dangal                                                    8.4\n",
      "             Before the Flood                                          8.3\n",
      "             Sairat                                                    8.3\n",
      "2015         Be Here Now                                               8.6\n",
      "             Winter on Fire: Ukraine's Fight for Freedom               8.4\n",
      "             Thithi                                                    8.2\n",
      "2014         Cowspiracy: The Sustainability Secret                     8.3\n",
      "             The Look of Silence                                       8.3\n",
      "             Virunga                                                   8.2\n",
      "2013         Blackfish                                                 8.1\n",
      "             The Square                                                8.1\n",
      "             Ugly                                                      8.0\n",
      "2012         Searching for Sugar Man                                   8.2\n",
      "             Barfi!                                                    8.1\n",
      "             Kahaani                                                   8.1\n",
      "2011         A Separation                                              8.3\n",
      "             Zindagi Na Milegi Dobara                                  8.1\n",
      "             Jiro Dreams of Sushi                                      7.9\n",
      "2010         Inception                                                 8.8\n",
      "             Senna                                                     8.5\n",
      "             Rush: Beyond the Lighted Stage                            8.4\n",
      "2009         3 Idiots                                                  8.4\n",
      "             Harishchandrachi Factory                                  8.4\n",
      "             Inglourious Basterds                                      8.3\n",
      "2008         A Wednesday                                               8.1\n",
      "             Ip Man                                                    8.0\n",
      "             The Boy in the Striped Pajamas                            7.8\n",
      "2007         The Pixar Story                                           7.8\n",
      "             Guru                                                      7.7\n",
      "             Zodiac                                                    7.7\n",
      "2006         The Departed                                              8.5\n",
      "             The Lives of Others                                       8.4\n",
      "             Rang De Basanti                                           8.2\n",
      "2005         V for Vendetta                                            8.2\n",
      "             Sin City                                                  8.0\n",
      "             Coach Carter                                              7.3\n",
      "2004         Swades                                                    8.2\n",
      "             Kill Bill: Vol. 2                                         8.0\n",
      "             Lakshya                                                   7.9\n",
      "2003         The Lord of the Rings: The Return of the King             8.9\n",
      "             Kill Bill: Vol. 1                                         8.1\n",
      "             Hazaaron Khwaishein Aisi                                  7.9\n",
      "2002         The Lord of the Rings: The Two Towers                     8.7\n",
      "             City of God                                               8.6\n",
      "             Catch Me If You Can                                       8.1\n",
      "2001         Dil Chahta Hai                                            8.1\n",
      "             Vizontele                                                 8.0\n",
      "             Black Hawk Down                                           7.7\n",
      "2000         Crouching Tiger, Hidden Dragon                            7.8\n",
      "             Billy Elliot                                              7.7\n",
      "             American Psycho                                           7.6\n",
      "1999         The Matrix                                                8.7\n",
      "             American Beauty                                           8.3\n",
      "             Magnolia                                                  8.0\n",
      "1998         American History X                                        8.5\n",
      "             Lock, Stock and Two Smoking Barrels                       8.2\n",
      "             Fear and Loathing in Las Vegas                            7.6\n",
      "1997         The Game                                                  7.8\n",
      "             As Good as It Gets                                        7.7\n",
      "             Donnie Brasco                                             7.7\n",
      "1996         Trainspotting                                             8.1\n",
      "             Sling Blade                                               8.0\n",
      "             Primal Fear                                               7.7\n",
      "1995         GoldenEye                                                 7.2\n",
      "             Balto                                                     7.1\n",
      "             Bad Boys                                                  6.9\n",
      "1994         Pulp Fiction                                              8.9\n",
      "             Andaz Apna Apna                                           8.2\n",
      "             Kabhi Haan Kabhi Naa                                      7.8\n",
      "1993         Schindler's List                                          8.9\n",
      "             What's Eating Gilbert Grape                               7.8\n",
      "             Philadelphia                                              7.7\n",
      "1992         Howards End                                               7.4\n",
      "             Strictly Ballroom                                         7.2\n",
      "             The Crying Game                                           7.2\n",
      "1991         The Last Boy Scout                                        7.0\n",
      "             My Girl                                                   6.9\n",
      "             Daughters of the Dust                                     6.6\n",
      "1990         Paris Is Burning                                          8.2\n",
      "             Ghayal                                                    7.6\n",
      "             Tremors                                                   7.1\n",
      "1989         Indiana Jones and the Last Crusade                        8.2\n",
      "             Dad                                                       6.3\n",
      "             Little Monsters                                           6.1\n",
      "1988         Rain Man                                                  8.0\n",
      "             The Naked Gun: From the Files of Police Squad!            7.6\n",
      "             Child's Play                                              6.6\n",
      "1987         La Bamba                                                  6.9\n",
      "             Hamburger Hill                                            6.7\n",
      "1986         Ferris Bueller's Day Off                                  7.8\n",
      "             An American Tail                                          6.9\n",
      "             She's Gotta Have It                                       6.7\n",
      "1985         Rocky IV                                                  6.9\n",
      "1984         Indiana Jones and the Temple of Doom                      7.6\n",
      "             The Natural                                               7.5\n",
      "             Red Dawn                                                  6.4\n",
      "1983         Masoom                                                    8.4\n",
      "             Sadma                                                     8.4\n",
      "1982         Five Elements Ninjas                                      7.3\n",
      "             The Dark Crystal                                          7.2\n",
      "             Rocky III                                                 6.8\n",
      "1981         Indiana Jones and the Raiders of the Lost Ark             8.4\n",
      "             The Evil Dead                                             7.5\n",
      "             Stripes                                                   6.9\n",
      "1980         Raging Bull                                               8.2\n",
      "             Playing for Time                                          7.4\n",
      "             Popeye                                                    5.3\n",
      "1979         Richard Pryor: Live in Concert                            8.2\n",
      "             Monty Python's Life of Brian                              8.1\n",
      "             Rocky II                                                  7.3\n",
      "1978         Don                                                       7.8\n",
      "             Grease                                                    7.2\n",
      "1976         Taxi Driver                                               8.3\n",
      "             Rocky                                                     8.1\n",
      "             Carrie                                                    7.4\n",
      "1975         Monty Python and the Holy Grail                           8.2\n",
      "1974         Alice Doesn't Live Here Anymore                           7.3\n",
      "             The Longest Yard                                          7.1\n",
      "             Benji                                                     6.2\n",
      "1973         Enter the Dragon                                          7.7\n",
      "             Mean Streets                                              7.2\n",
      "             Charlotte's Web                                           6.9\n",
      "1972         Bawarchi                                                  8.0\n",
      "1971         Willy Wonka & the Chocolate Factory                       7.8\n",
      "1970         The Cruise                                                7.6\n",
      "1969         True Grit                                                 7.4\n",
      "1968         Once Upon a Time in the West                              8.5\n",
      "             Rosemary's Baby                                           8.0\n",
      "             Chitty Chitty Bang Bang                                   6.9\n",
      "1965         Doctor Zhivago                                            8.0\n",
      "             The Cincinnati Kid                                        7.3\n",
      "1962         Lolita                                                    7.6\n",
      "             Mutiny on the Bounty                                      7.3\n",
      "1958         Cat on a Hot Tin Roof                                     8.0\n",
      "             Gigi                                                      6.7\n",
      "1956         Forbidden Planet                                          7.6\n",
      "1955         Rebel Without a Cause                                     7.7\n",
      "1954         White Christmas                                           7.6\n",
      "1946         The Stranger                                              7.4\n"
     ]
    }
   ],
   "source": [
    "df_movie['rank'] = df_movie.groupby(['release_year'])['averageRating'].rank(ascending=False, method='first')\n",
    "\n",
    "pv_movie = pd.pivot_table(df_movie.loc[df_movie['rank']<=3], index=['release_year','title'], values='averageRating')\n",
    "pv_movie = pv_movie.sort_values(by=['release_year','averageRating'], ascending=False)\n",
    "pd.set_option('display.max_rows', pv_movie.shape[0]+1)\n",
    "print(pv_movie)"
   ]
  },
  {
   "cell_type": "markdown",
   "metadata": {},
   "source": [
    "### Top 10 most popular TV Shows"
   ]
  },
  {
   "cell_type": "code",
   "execution_count": 68,
   "metadata": {},
   "outputs": [
    {
     "data": {
      "text/html": [
       "<div>\n",
       "<style scoped>\n",
       "    .dataframe tbody tr th:only-of-type {\n",
       "        vertical-align: middle;\n",
       "    }\n",
       "\n",
       "    .dataframe tbody tr th {\n",
       "        vertical-align: top;\n",
       "    }\n",
       "\n",
       "    .dataframe thead th {\n",
       "        text-align: right;\n",
       "    }\n",
       "</style>\n",
       "<table border=\"1\" class=\"dataframe\">\n",
       "  <thead>\n",
       "    <tr style=\"text-align: right;\">\n",
       "      <th></th>\n",
       "      <th>title</th>\n",
       "      <th>country</th>\n",
       "      <th>listed_in</th>\n",
       "    </tr>\n",
       "  </thead>\n",
       "  <tbody>\n",
       "    <tr>\n",
       "      <th>0</th>\n",
       "      <td>Planet Earth II</td>\n",
       "      <td>United Kingdom</td>\n",
       "      <td>British TV Shows, Docuseries, Science &amp; Nature TV</td>\n",
       "    </tr>\n",
       "    <tr>\n",
       "      <th>1</th>\n",
       "      <td>Blue Planet II</td>\n",
       "      <td>United Kingdom</td>\n",
       "      <td>British TV Shows, Docuseries, Science &amp; Nature TV</td>\n",
       "    </tr>\n",
       "    <tr>\n",
       "      <th>2</th>\n",
       "      <td>Our Planet</td>\n",
       "      <td>United States, United Kingdom</td>\n",
       "      <td>Docuseries, Science &amp; Nature TV</td>\n",
       "    </tr>\n",
       "    <tr>\n",
       "      <th>3</th>\n",
       "      <td>The Hunt</td>\n",
       "      <td>United Kingdom</td>\n",
       "      <td>British TV Shows, Docuseries, Science &amp; Nature TV</td>\n",
       "    </tr>\n",
       "    <tr>\n",
       "      <th>4</th>\n",
       "      <td>Reply 1988</td>\n",
       "      <td>Unknown</td>\n",
       "      <td>International TV Shows, Korean TV Shows, Roman...</td>\n",
       "    </tr>\n",
       "    <tr>\n",
       "      <th>5</th>\n",
       "      <td>Yeh Meri Family</td>\n",
       "      <td>India</td>\n",
       "      <td>International TV Shows, TV Comedies</td>\n",
       "    </tr>\n",
       "    <tr>\n",
       "      <th>6</th>\n",
       "      <td>Life</td>\n",
       "      <td>United Kingdom, United States, Greece, Italy, ...</td>\n",
       "      <td>British TV Shows, Docuseries, International TV...</td>\n",
       "    </tr>\n",
       "    <tr>\n",
       "      <th>7</th>\n",
       "      <td>Africa</td>\n",
       "      <td>United Kingdom</td>\n",
       "      <td>British TV Shows, Docuseries, International TV...</td>\n",
       "    </tr>\n",
       "    <tr>\n",
       "      <th>8</th>\n",
       "      <td>Frozen Planet</td>\n",
       "      <td>United Kingdom, United States, Spain, Germany,...</td>\n",
       "      <td>British TV Shows, Docuseries, International TV...</td>\n",
       "    </tr>\n",
       "    <tr>\n",
       "      <th>9</th>\n",
       "      <td>Life Story</td>\n",
       "      <td>United Kingdom</td>\n",
       "      <td>British TV Shows, Docuseries, Science &amp; Nature TV</td>\n",
       "    </tr>\n",
       "  </tbody>\n",
       "</table>\n",
       "</div>"
      ],
      "text/plain": [
       "             title                                            country  \\\n",
       "0  Planet Earth II                                     United Kingdom   \n",
       "1   Blue Planet II                                     United Kingdom   \n",
       "2       Our Planet                      United States, United Kingdom   \n",
       "3         The Hunt                                     United Kingdom   \n",
       "4       Reply 1988                                            Unknown   \n",
       "5  Yeh Meri Family                                              India   \n",
       "6             Life  United Kingdom, United States, Greece, Italy, ...   \n",
       "7           Africa                                     United Kingdom   \n",
       "8    Frozen Planet  United Kingdom, United States, Spain, Germany,...   \n",
       "9       Life Story                                     United Kingdom   \n",
       "\n",
       "                                           listed_in  \n",
       "0  British TV Shows, Docuseries, Science & Nature TV  \n",
       "1  British TV Shows, Docuseries, Science & Nature TV  \n",
       "2                    Docuseries, Science & Nature TV  \n",
       "3  British TV Shows, Docuseries, Science & Nature TV  \n",
       "4  International TV Shows, Korean TV Shows, Roman...  \n",
       "5                International TV Shows, TV Comedies  \n",
       "6  British TV Shows, Docuseries, International TV...  \n",
       "7  British TV Shows, Docuseries, International TV...  \n",
       "8  British TV Shows, Docuseries, International TV...  \n",
       "9  British TV Shows, Docuseries, Science & Nature TV  "
      ]
     },
     "execution_count": 68,
     "metadata": {},
     "output_type": "execute_result"
    }
   ],
   "source": [
    "df_tv[['title', 'country','listed_in']][0:10]"
   ]
  },
  {
   "cell_type": "markdown",
   "metadata": {},
   "source": [
    "### Top 3 most popular TV Shows per year of release"
   ]
  },
  {
   "cell_type": "code",
   "execution_count": 69,
   "metadata": {},
   "outputs": [
    {
     "name": "stdout",
     "output_type": "stream",
     "text": [
      "                                                averageRating\n",
      "release_year title                                           \n",
      "2020         Kipo and the Age of Wonderbeasts             8.4\n",
      "             Cheer                                        8.2\n",
      "             Spinning Out                                 7.7\n",
      "2019         Our Planet                                   9.3\n",
      "             The Untamed                                  8.9\n",
      "             When They See Us                             8.9\n",
      "2018         Yeh Meri Family                              9.1\n",
      "             College Romance                              8.9\n",
      "             Mr. Sunshine                                 8.8\n",
      "2017         Blue Planet II                               9.3\n",
      "             Dave Chappelle                               8.7\n",
      "             Stranger                                     8.6\n",
      "2016         Planet Earth II                              9.5\n",
      "             Signal                                       8.6\n",
      "             The Eighties                                 8.3\n",
      "2015         The Hunt                                     9.3\n",
      "             Reply 1988                                   9.1\n",
      "             Stories by Rabindranath Tagore               8.9\n",
      "2014         Life Story                                   9.0\n",
      "             Misaeng                                      8.6\n",
      "             Lovesick                                     8.1\n",
      "2013         Africa                                       9.0\n",
      "             Attack on Titan                              8.8\n",
      "             The Devil Is a Part-Timer!                   7.7\n",
      "2012         Zindagi Gulzar Hai                           8.9\n",
      "             JoJo's Bizarre Adventure                     8.4\n",
      "             Reply 1997                                   8.1\n",
      "2011         Frozen Planet                                9.0\n",
      "             Humsafar                                     9.0\n",
      "             Top Boy                                      8.4\n",
      "2010         Sym-Bionic Titan                             8.1\n",
      "             Teresa                                       7.8\n",
      "             Angel Beats!                                 7.7\n",
      "2009         Life                                         9.1\n",
      "             World War II in Colour                       8.7\n",
      "             Ezel                                         8.6\n",
      "2008         Dead Set                                     7.6\n",
      "             Vampire Knight                               7.4\n",
      "             The Legend of Bruce Lee                      7.0\n",
      "2007         Power Rangers Operation Overdrive            5.4\n",
      "2006         Vientos de agua                              8.8\n",
      "             Ouran High School Host Club                  8.2\n",
      "             Power Rangers Mystic Force                   6.6\n",
      "2005         Power Rangers S.P.D.                         6.5\n",
      "2004         North & South                                8.6\n",
      "             Rebelde                                      7.2\n",
      "2003         Fullmetal Alchemist                          8.5\n",
      "             Pasión de Gavilanes                          7.9\n",
      "             Power Rangers Ninja Storm                    6.4\n",
      "2002         Power Rangers Wild Force                     6.3\n",
      "2001         Power Rangers Time Force                     7.0\n",
      "2000         Power Rangers Lightspeed Rescue              6.5\n",
      "1999         Chewin' the Fat                              8.2\n",
      "             Power Rangers Lost Galaxy                    6.9\n",
      "1998         Power Rangers in Space                       7.2\n",
      "1997         Power Rangers Turbo                          5.7\n",
      "             Ninja Turtles: The Next Mutation             4.4\n",
      "1996         Power Rangers Zeo                            6.6\n",
      "1995         Neon Genesis Evangelion                      8.5\n",
      "1990         Twin Peaks                                   8.8\n",
      "1989         The Super Mario Bros. Super Show!            6.2\n",
      "1986         Shaka Zulu                                   7.7\n",
      "1985         Robotech                                     8.5\n",
      "1972         Monty Python's Fliegender Zirkus             8.2\n"
     ]
    }
   ],
   "source": [
    "df_tv['rank'] = df_tv.groupby(['release_year'])['averageRating'].rank(ascending=False, method='first')\n",
    "\n",
    "pv_tv = pd.pivot_table(df_tv.loc[df_tv['rank']<=3], index=['release_year','title'], values='averageRating')\n",
    "pv_tv = pv_tv.sort_values(by=['release_year','averageRating'], ascending=False)\n",
    "pd.set_option('display.max_rows', pv_tv.shape[0]+1)\n",
    "print(pv_tv)"
   ]
  },
  {
   "cell_type": "markdown",
   "metadata": {},
   "source": [
    "If you didn't know what to watch on Netflix, now you have enough options! :)"
   ]
  }
 ],
 "metadata": {
  "celltoolbar": "Raw Cell Format",
  "kernelspec": {
   "display_name": "Python 3",
   "language": "python",
   "name": "python3"
  },
  "language_info": {
   "codemirror_mode": {
    "name": "ipython",
    "version": 3
   },
   "file_extension": ".py",
   "mimetype": "text/x-python",
   "name": "python",
   "nbconvert_exporter": "python",
   "pygments_lexer": "ipython3",
   "version": "3.7.4"
  }
 },
 "nbformat": 4,
 "nbformat_minor": 4
}
